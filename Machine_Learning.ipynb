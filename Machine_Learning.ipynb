{
 "cells": [
  {
   "cell_type": "markdown",
   "id": "IPfYc4s_MeGa",
   "metadata": {
    "id": "IPfYc4s_MeGa"
   },
   "source": [
    "# Machine learning"
   ]
  },
  {
   "cell_type": "code",
   "execution_count": 1,
   "id": "cNaDAACN_AjF",
   "metadata": {
    "id": "cNaDAACN_AjF"
   },
   "outputs": [],
   "source": [
    "import numpy as np\n",
    "import pandas as pd\n",
    "import seaborn as sb\n",
    "import matplotlib.pyplot as plt\n",
    "import seaborn as sns\n",
    "from sklearn.metrics import confusion_matrix\n",
    "from sklearn.preprocessing import StandardScaler\n",
    "from sklearn.preprocessing import OneHotEncoder\n",
    "from sklearn.preprocessing import LabelEncoder\n",
    "from sklearn.compose import ColumnTransformer\n",
    "from sklearn.pipeline import Pipeline\n",
    "from sklearn.ensemble import RandomForestClassifier\n",
    "from sklearn.impute import SimpleImputer\n",
    "from sklearn import metrics\n",
    "from sklearn.tree import plot_tree\n",
    "from sklearn.ensemble import GradientBoostingClassifier\n",
    "from sklearn.ensemble import HistGradientBoostingClassifier\n",
    "from sklearn.tree import DecisionTreeClassifier\n",
    "from sklearn.metrics import confusion_matrix"
   ]
  },
  {
   "cell_type": "code",
   "execution_count": null,
   "id": "3452f3b1",
   "metadata": {},
   "outputs": [],
   "source": [
    "train = pd.read_csv(\"/data/train.csv\")\n",
    "test = pd.read_csv(\"/data/test.csv\")\n",
    "cleancopy = pd.read_csv(\"/data/clean.csv\")"
   ]
  },
  {
   "cell_type": "markdown",
   "id": "-6ge6-GVMiYo",
   "metadata": {
    "id": "-6ge6-GVMiYo"
   },
   "source": [
    "## Part 1: Classification tree on economy advantage with no modifications"
   ]
  },
  {
   "cell_type": "markdown",
   "id": "vGrRbesBUm7Z",
   "metadata": {
    "id": "vGrRbesBUm7Z"
   },
   "source": [
    "For the first model we implement directly a classification tree based on numerical economic Advantage and categorical Result. We will use economic Advantage as the predictor and Result is our response (1.0 for team 1 winning, 2.0 for team 2 winning). "
   ]
  },
  {
   "cell_type": "markdown",
   "id": "rw74WPR8_ynw",
   "metadata": {
    "id": "rw74WPR8_ynw"
   },
   "source": [
    "### Preparation"
   ]
  },
  {
   "cell_type": "code",
   "execution_count": 3,
   "id": "I4WJvequRtNv",
   "metadata": {
    "id": "I4WJvequRtNv"
   },
   "outputs": [],
   "source": [
    "trainCopy = train"
   ]
  },
  {
   "cell_type": "code",
   "execution_count": 4,
   "id": "fb589fd6-8568-4313-a30e-1d9a4d89853f",
   "metadata": {},
   "outputs": [
    {
     "data": {
      "text/html": [
       "<div>\n",
       "<style scoped>\n",
       "    .dataframe tbody tr th:only-of-type {\n",
       "        vertical-align: middle;\n",
       "    }\n",
       "\n",
       "    .dataframe tbody tr th {\n",
       "        vertical-align: top;\n",
       "    }\n",
       "\n",
       "    .dataframe thead th {\n",
       "        text-align: right;\n",
       "    }\n",
       "</style>\n",
       "<table border=\"1\" class=\"dataframe\">\n",
       "  <thead>\n",
       "    <tr style=\"text-align: right;\">\n",
       "      <th></th>\n",
       "      <th>date</th>\n",
       "      <th>match_id</th>\n",
       "      <th>event_id</th>\n",
       "      <th>team_1</th>\n",
       "      <th>team_2</th>\n",
       "      <th>best_of</th>\n",
       "      <th>_map</th>\n",
       "      <th>t1_start</th>\n",
       "      <th>t2_start</th>\n",
       "      <th>1_t1</th>\n",
       "      <th>...</th>\n",
       "      <th>21_advantage</th>\n",
       "      <th>22_advantage</th>\n",
       "      <th>23_advantage</th>\n",
       "      <th>24_advantage</th>\n",
       "      <th>25_advantage</th>\n",
       "      <th>26_advantage</th>\n",
       "      <th>27_advantage</th>\n",
       "      <th>28_advantage</th>\n",
       "      <th>29_advantage</th>\n",
       "      <th>30_advantage</th>\n",
       "    </tr>\n",
       "  </thead>\n",
       "  <tbody>\n",
       "    <tr>\n",
       "      <th>0</th>\n",
       "      <td>2018-02-27</td>\n",
       "      <td>2320196</td>\n",
       "      <td>3542</td>\n",
       "      <td>Odense</td>\n",
       "      <td>Pixel</td>\n",
       "      <td>3</td>\n",
       "      <td>Overpass</td>\n",
       "      <td>ct</td>\n",
       "      <td>t</td>\n",
       "      <td>4300.0</td>\n",
       "      <td>...</td>\n",
       "      <td>5600.0</td>\n",
       "      <td>16250.0</td>\n",
       "      <td>-9300.0</td>\n",
       "      <td>1450.0</td>\n",
       "      <td>-16600.0</td>\n",
       "      <td>5.0</td>\n",
       "      <td>5.0</td>\n",
       "      <td>5.0</td>\n",
       "      <td>5.0</td>\n",
       "      <td>5.0</td>\n",
       "    </tr>\n",
       "    <tr>\n",
       "      <th>1</th>\n",
       "      <td>2019-03-21</td>\n",
       "      <td>2331843</td>\n",
       "      <td>4489</td>\n",
       "      <td>MVP PK</td>\n",
       "      <td>BOOT-d[S]</td>\n",
       "      <td>3</td>\n",
       "      <td>Mirage</td>\n",
       "      <td>t</td>\n",
       "      <td>ct</td>\n",
       "      <td>4200.0</td>\n",
       "      <td>...</td>\n",
       "      <td>-4350.0</td>\n",
       "      <td>4100.0</td>\n",
       "      <td>26350.0</td>\n",
       "      <td>8150.0</td>\n",
       "      <td>27200.0</td>\n",
       "      <td>5300.0</td>\n",
       "      <td>4650.0</td>\n",
       "      <td>-6450.0</td>\n",
       "      <td>3050.0</td>\n",
       "      <td>5.0</td>\n",
       "    </tr>\n",
       "    <tr>\n",
       "      <th>2</th>\n",
       "      <td>2019-08-31</td>\n",
       "      <td>2335706</td>\n",
       "      <td>4791</td>\n",
       "      <td>Paradise</td>\n",
       "      <td>Alpha Red</td>\n",
       "      <td>3</td>\n",
       "      <td>Vertigo</td>\n",
       "      <td>ct</td>\n",
       "      <td>t</td>\n",
       "      <td>4300.0</td>\n",
       "      <td>...</td>\n",
       "      <td>-8550.0</td>\n",
       "      <td>5.0</td>\n",
       "      <td>5.0</td>\n",
       "      <td>5.0</td>\n",
       "      <td>5.0</td>\n",
       "      <td>5.0</td>\n",
       "      <td>5.0</td>\n",
       "      <td>5.0</td>\n",
       "      <td>5.0</td>\n",
       "      <td>5.0</td>\n",
       "    </tr>\n",
       "    <tr>\n",
       "      <th>3</th>\n",
       "      <td>2018-10-30</td>\n",
       "      <td>2328565</td>\n",
       "      <td>4122</td>\n",
       "      <td>MIKSTURA</td>\n",
       "      <td>Imperial</td>\n",
       "      <td>1</td>\n",
       "      <td>Train</td>\n",
       "      <td>t</td>\n",
       "      <td>ct</td>\n",
       "      <td>4300.0</td>\n",
       "      <td>...</td>\n",
       "      <td>4900.0</td>\n",
       "      <td>27050.0</td>\n",
       "      <td>8050.0</td>\n",
       "      <td>17450.0</td>\n",
       "      <td>5850.0</td>\n",
       "      <td>-19250.0</td>\n",
       "      <td>300.0</td>\n",
       "      <td>-7450.0</td>\n",
       "      <td>5.0</td>\n",
       "      <td>5.0</td>\n",
       "    </tr>\n",
       "    <tr>\n",
       "      <th>4</th>\n",
       "      <td>2018-06-18</td>\n",
       "      <td>2323985</td>\n",
       "      <td>3834</td>\n",
       "      <td>MVP PK</td>\n",
       "      <td>Beyond</td>\n",
       "      <td>3</td>\n",
       "      <td>Mirage</td>\n",
       "      <td>ct</td>\n",
       "      <td>t</td>\n",
       "      <td>4350.0</td>\n",
       "      <td>...</td>\n",
       "      <td>1150.0</td>\n",
       "      <td>1250.0</td>\n",
       "      <td>10650.0</td>\n",
       "      <td>25750.0</td>\n",
       "      <td>4300.0</td>\n",
       "      <td>-2450.0</td>\n",
       "      <td>-5000.0</td>\n",
       "      <td>-13950.0</td>\n",
       "      <td>600.0</td>\n",
       "      <td>-10700.0</td>\n",
       "    </tr>\n",
       "  </tbody>\n",
       "</table>\n",
       "<p>5 rows × 129 columns</p>\n",
       "</div>"
      ],
      "text/plain": [
       "         date  match_id  event_id    team_1     team_2 best_of      _map  \\\n",
       "0  2018-02-27   2320196      3542    Odense      Pixel       3  Overpass   \n",
       "1  2019-03-21   2331843      4489    MVP PK  BOOT-d[S]       3    Mirage   \n",
       "2  2019-08-31   2335706      4791  Paradise  Alpha Red       3   Vertigo   \n",
       "3  2018-10-30   2328565      4122  MIKSTURA   Imperial       1     Train   \n",
       "4  2018-06-18   2323985      3834    MVP PK     Beyond       3    Mirage   \n",
       "\n",
       "  t1_start t2_start    1_t1  ...  21_advantage  22_advantage  23_advantage  \\\n",
       "0       ct        t  4300.0  ...        5600.0       16250.0       -9300.0   \n",
       "1        t       ct  4200.0  ...       -4350.0        4100.0       26350.0   \n",
       "2       ct        t  4300.0  ...       -8550.0           5.0           5.0   \n",
       "3        t       ct  4300.0  ...        4900.0       27050.0        8050.0   \n",
       "4       ct        t  4350.0  ...        1150.0        1250.0       10650.0   \n",
       "\n",
       "   24_advantage  25_advantage  26_advantage  27_advantage  28_advantage  \\\n",
       "0        1450.0      -16600.0           5.0           5.0           5.0   \n",
       "1        8150.0       27200.0        5300.0        4650.0       -6450.0   \n",
       "2           5.0           5.0           5.0           5.0           5.0   \n",
       "3       17450.0        5850.0      -19250.0         300.0       -7450.0   \n",
       "4       25750.0        4300.0       -2450.0       -5000.0      -13950.0   \n",
       "\n",
       "   29_advantage  30_advantage  \n",
       "0           5.0           5.0  \n",
       "1        3050.0           5.0  \n",
       "2           5.0           5.0  \n",
       "3           5.0           5.0  \n",
       "4         600.0      -10700.0  \n",
       "\n",
       "[5 rows x 129 columns]"
      ]
     },
     "execution_count": 4,
     "metadata": {},
     "output_type": "execute_result"
    }
   ],
   "source": [
    "trainCopy.head()"
   ]
  },
  {
   "cell_type": "code",
   "execution_count": null,
   "id": "b9f597ab-57b2-4a43-9503-637e31f56c7d",
   "metadata": {},
   "outputs": [],
   "source": []
  },
  {
   "cell_type": "code",
   "execution_count": 5,
   "id": "ucHt69dJQ9AE",
   "metadata": {
    "id": "ucHt69dJQ9AE"
   },
   "outputs": [],
   "source": [
    "classEconomy = pd.DataFrame(columns=['Advantage', 'Result'])"
   ]
  },
  {
   "cell_type": "code",
   "execution_count": null,
   "id": "OUDHZi0wRg35",
   "metadata": {
    "id": "OUDHZi0wRg35"
   },
   "outputs": [],
   "source": [
    "for i in range(1,31):\n",
    "  advantageString  = str(i) + \"_advantage\"\n",
    "  winnerString = str(i) + \"_winner\"\n",
    "\n",
    "  tempFrame = pd.concat([trainCopy[advantageString], trainCopy[winnerString]], ignore_index = True, axis = 1)\n",
    "  tempFrame.rename(columns = {0: 'Advantage', 1: 'Result'}, inplace = True)\n",
    "\n",
    "  classEconomy = pd.concat([classEconomy, tempFrame], axis = 0, ignore_index = True)\n",
    "\n",
    "classEconomy = classEconomy[classEconomy[\"Result\"] != 0.0]\n",
    "classEconomy = classEconomy[classEconomy[\"Advantage\"] != -5]\n",
    "advClassTrain = pd.DataFrame(classEconomy['Advantage'])\n",
    "resClassTrain = pd.DataFrame(classEconomy['Result'])"
   ]
  },
  {
   "cell_type": "code",
   "execution_count": 7,
   "id": "YSrUyqaWOZ-3",
   "metadata": {
    "colab": {
     "base_uri": "https://localhost:8080/"
    },
    "id": "YSrUyqaWOZ-3",
    "outputId": "fd25d1a0-66de-4f0c-9e90-26723894ac6f"
   },
   "outputs": [
    {
     "data": {
      "text/plain": [
       "(8232, 129)"
      ]
     },
     "execution_count": 7,
     "metadata": {},
     "output_type": "execute_result"
    }
   ],
   "source": [
    "testCopy = test\n",
    "testCopy.shape"
   ]
  },
  {
   "cell_type": "code",
   "execution_count": 8,
   "id": "u5DeKzOKPbLu",
   "metadata": {
    "id": "u5DeKzOKPbLu"
   },
   "outputs": [],
   "source": [
    "testEconomy = pd.DataFrame(columns=['Advantage', 'Result'])"
   ]
  },
  {
   "cell_type": "code",
   "execution_count": 9,
   "id": "8wRLnIKtOZ8S",
   "metadata": {
    "id": "8wRLnIKtOZ8S"
   },
   "outputs": [],
   "source": [
    "for i in range(1,31):\n",
    "  advantageString  = str(i) + \"_advantage\"\n",
    "  winnerString = str(i) + \"_winner\"\n",
    "\n",
    "  \n",
    "  tempFrame = pd.concat([testCopy[advantageString], testCopy[winnerString]], ignore_index = True, axis = 1)\n",
    "  tempFrame.rename(columns = {0: 'Advantage', 1: 'Result'}, inplace = True)\n",
    "\n",
    "  testEconomy = pd.concat([testEconomy, tempFrame], axis = 0, ignore_index = True)\n",
    "\n",
    "\n",
    "testEconomy = testEconomy[testEconomy[\"Result\"] != 0]\n",
    "testEconomy = testEconomy[testEconomy[\"Advantage\"] != -5]\n",
    "testFrame = pd.DataFrame(testEconomy[\"Advantage\"])\n",
    "actualFrame = pd.DataFrame(testEconomy[\"Result\"])\n"
   ]
  },
  {
   "cell_type": "markdown",
   "id": "9mnxGspFmAox",
   "metadata": {
    "id": "9mnxGspFmAox"
   },
   "source": [
    "### Training"
   ]
  },
  {
   "cell_type": "code",
   "execution_count": 10,
   "id": "Ik8nilq9fCyo",
   "metadata": {
    "id": "Ik8nilq9fCyo"
   },
   "outputs": [],
   "source": [
    "clftree = DecisionTreeClassifier(max_depth = 10)"
   ]
  },
  {
   "cell_type": "code",
   "execution_count": 11,
   "id": "5wjVXVW3UXnN",
   "metadata": {
    "colab": {
     "base_uri": "https://localhost:8080/"
    },
    "id": "5wjVXVW3UXnN",
    "outputId": "d6675ddc-492e-4b6b-d5b4-9095900911cf"
   },
   "outputs": [
    {
     "data": {
      "text/plain": [
       "Result\n",
       "1.0       429685\n",
       "2.0       403643\n",
       "dtype: int64"
      ]
     },
     "execution_count": 11,
     "metadata": {},
     "output_type": "execute_result"
    }
   ],
   "source": [
    "resClassTrain.value_counts()"
   ]
  },
  {
   "cell_type": "code",
   "execution_count": 12,
   "id": "0799ea22-e1ac-438f-8580-abafc5cdd1be",
   "metadata": {},
   "outputs": [
    {
     "data": {
      "text/plain": [
       "Advantage\n",
       " 50.0        6985\n",
       "-50.0        6848\n",
       " 0.0         6843\n",
       "-100.0       6599\n",
       " 100.0       6450\n",
       "             ... \n",
       "-33400.0        1\n",
       "-33450.0        1\n",
       "-33550.0        1\n",
       "-33950.0        1\n",
       " 36250.0        1\n",
       "Length: 1346, dtype: int64"
      ]
     },
     "execution_count": 12,
     "metadata": {},
     "output_type": "execute_result"
    }
   ],
   "source": [
    "advClassTrain.value_counts()"
   ]
  },
  {
   "cell_type": "code",
   "execution_count": 13,
   "id": "z6e2uEcPfCiz",
   "metadata": {
    "colab": {
     "base_uri": "https://localhost:8080/"
    },
    "id": "z6e2uEcPfCiz",
    "outputId": "1d9bb27e-f20b-4287-8e94-021cae2c5e54"
   },
   "outputs": [
    {
     "data": {
      "text/plain": [
       "DecisionTreeClassifier(max_depth=10)"
      ]
     },
     "execution_count": 13,
     "metadata": {},
     "output_type": "execute_result"
    }
   ],
   "source": [
    "clftree.fit(advClassTrain, resClassTrain)"
   ]
  },
  {
   "cell_type": "markdown",
   "id": "T38Cbjn4zPTU",
   "metadata": {
    "id": "T38Cbjn4zPTU"
   },
   "source": [
    "\n",
    "note: positive advantage means t1 spends more, vice versa"
   ]
  },
  {
   "cell_type": "markdown",
   "id": "pJewrsstmGPl",
   "metadata": {
    "id": "pJewrsstmGPl"
   },
   "source": [
    "### Testing"
   ]
  },
  {
   "cell_type": "code",
   "execution_count": 14,
   "id": "rGdfDb1tRHLb",
   "metadata": {
    "id": "rGdfDb1tRHLb"
   },
   "outputs": [],
   "source": [
    "test_pred_tree = clftree.predict(testFrame)\n",
    "predtree = clftree.score(testFrame, actualFrame)"
   ]
  },
  {
   "cell_type": "code",
   "execution_count": 15,
   "id": "UsYmS0AzQRhE",
   "metadata": {
    "id": "UsYmS0AzQRhE"
   },
   "outputs": [],
   "source": [
    "confusion_matrix = metrics.confusion_matrix(actualFrame, test_pred_tree)\n",
    "confusion_matrix = pd.DataFrame(confusion_matrix)\n",
    "labels = [\"1_win\", \"2_win\"]"
   ]
  },
  {
   "cell_type": "code",
   "execution_count": 16,
   "id": "CNQCF2U_Rn3b",
   "metadata": {
    "colab": {
     "base_uri": "https://localhost:8080/",
     "height": 326
    },
    "id": "CNQCF2U_Rn3b",
    "outputId": "2382e6d7-7e66-4671-871f-5b67a3ba1202"
   },
   "outputs": [
    {
     "data": {
      "image/png": "[encoded data removed]",
      "text/plain": [
       "<Figure size 432x288 with 2 Axes>"
      ]
     },
     "metadata": {
      "needs_background": "light"
     },
     "output_type": "display_data"
    },
    {
     "data": {
      "text/plain": [
       "<Figure size 720x504 with 0 Axes>"
      ]
     },
     "metadata": {},
     "output_type": "display_data"
    }
   ],
   "source": [
    "ax = plt.axes()\n",
    "sb.set(font_scale=1.3)\n",
    "plt.figure(figsize=(10,7))\n",
    "sb.heatmap(confusion_matrix, annot=True, fmt=\"g\", ax=ax, cmap=\"magma\")#set axis titles\n",
    "ax.set_title('Confusion Matrix - Decision Tree')\n",
    "ax.set_xlabel(\"Predicted\", fontsize =15)\n",
    "ax.set_xticklabels(labels)\n",
    "ax.set_ylabel(\"True\", fontsize=15)\n",
    "ax.set_yticklabels(list(labels), rotation = 0)\n",
    "plt.show()"
   ]
  },
  {
   "cell_type": "markdown",
   "id": "Z4m0SkdSmJCL",
   "metadata": {
    "id": "Z4m0SkdSmJCL"
   },
   "source": [
    "### Evaluation"
   ]
  },
  {
   "cell_type": "code",
   "execution_count": 17,
   "id": "HNu64m37STjR",
   "metadata": {
    "colab": {
     "base_uri": "https://localhost:8080/"
    },
    "id": "HNu64m37STjR",
    "outputId": "73e44514-a14f-4520-b963-2aabd5575606"
   },
   "outputs": [
    {
     "name": "stdout",
     "output_type": "stream",
     "text": [
      "              precision    recall  f1-score   support\n",
      "\n",
      "         1.0       0.67      0.72      0.69    107698\n",
      "         2.0       0.68      0.61      0.64    100596\n",
      "\n",
      "    accuracy                           0.67    208294\n",
      "   macro avg       0.67      0.67      0.67    208294\n",
      "weighted avg       0.67      0.67      0.67    208294\n",
      "\n"
     ]
    }
   ],
   "source": [
    "print(metrics.classification_report(actualFrame, test_pred_tree))"
   ]
  },
  {
   "cell_type": "markdown",
   "id": "LMF1nKM1TXwM",
   "metadata": {
    "id": "LMF1nKM1TXwM"
   },
   "source": [
    "We see that the model accuracy is 0.67. Hence, our model can on average predict correctly for 2 out of 3 matches. However, we also observe there is a high number of predicted wins (about 18.6%) for team 1 that are actually won by team 2. This can be due to pistol rounds where there is no difference in economy and eco rounds where a team strategically chooses to spend less. "
   ]
  },
  {
   "cell_type": "markdown",
   "id": "Kv0NL-KpmpgN",
   "metadata": {
    "id": "Kv0NL-KpmpgN"
   },
   "source": [
    "We also noticed that increasing the tree's depth further than 10 does not meaningfully increase the model's prediction accuracy. Improving our model will require modifications to our classification method."
   ]
  },
  {
   "cell_type": "markdown",
   "id": "qGpLP7vTXW0e",
   "metadata": {
    "id": "qGpLP7vTXW0e"
   },
   "source": [
    "## Part 2: Attempt at improving the model"
   ]
  },
  {
   "cell_type": "markdown",
   "id": "rc6lhe8lYJXs",
   "metadata": {
    "id": "rc6lhe8lYJXs"
   },
   "source": [
    "The base model offers a good starting point to fine tune our model. Next we try using an ensemble tree to see if it can lead us to a higher prediction accuracy. "
   ]
  },
  {
   "cell_type": "markdown",
   "id": "1KMPBUz8ovST",
   "metadata": {
    "id": "1KMPBUz8ovST"
   },
   "source": [
    "We have discovered that some maps have a bias towards Terrorist or Counter-Terrorist. We will try to incorporate this as a predictor."
   ]
  },
  {
   "cell_type": "markdown",
   "id": "BAb2UtFooMBI",
   "metadata": {
    "id": "BAb2UtFooMBI"
   },
   "source": [
    "## Histogram-based Gradient Boosting Classifier"
   ]
  },
  {
   "cell_type": "markdown",
   "id": "Cqd9vnUYvs86",
   "metadata": {
    "id": "Cqd9vnUYvs86"
   },
   "source": [
    "### Preparation"
   ]
  },
  {
   "cell_type": "code",
   "execution_count": 18,
   "id": "OmpshDd9lytP",
   "metadata": {
    "id": "OmpshDd9lytP"
   },
   "outputs": [],
   "source": [
    "trainCopy2 = train\n",
    "classv2 = pd.DataFrame(columns=['Advantage', 'Result', 'map'])"
   ]
  },
  {
   "cell_type": "code",
   "execution_count": 19,
   "id": "Fi6GmTaZjx11",
   "metadata": {
    "id": "Fi6GmTaZjx11"
   },
   "outputs": [],
   "source": [
    "mapdict = { 'Cache' : '1'  , 'Vertigo' : '2' , 'Mirage' : '3' , 'Dust2' : '4', 'Cobblestone' : '5', 'Inferno' : '6', 'Overpass' : '7', 'Nuke' : '8', 'Train' : '9'}"
   ]
  },
  {
   "cell_type": "code",
   "execution_count": 20,
   "id": "vH8d4TZ9fELv",
   "metadata": {
    "id": "vH8d4TZ9fELv"
   },
   "outputs": [],
   "source": [
    "for i in range(1,31):\n",
    "  advantageString  = str(i) + \"_advantage\"\n",
    "  winnerString = str(i) + \"_winner\"\n",
    "\n",
    "  \n",
    "  tempFrame = pd.concat([trainCopy2[advantageString], trainCopy2[winnerString], trainCopy2[\"_map\"]], ignore_index = True, axis = 1)\n",
    "  tempFrame.rename(columns = {0: 'Advantage', 1: 'Result', 2: 'map'}, inplace = True)\n",
    "\n",
    "  classv2 = pd.concat([classv2, tempFrame], axis = 0, ignore_index = True)\n",
    "\n",
    "classv2['map'] = classv2['map'].map(mapdict)\n",
    "classv2 = classv2[classv2[\"Result\"] != 0]\n",
    "classv2 = classv2[classv2[\"Advantage\"] != -5]"
   ]
  },
  {
   "cell_type": "code",
   "execution_count": 21,
   "id": "at5lIpPK2O5K",
   "metadata": {
    "id": "at5lIpPK2O5K"
   },
   "outputs": [],
   "source": [
    "gbc = GradientBoostingClassifier()\n",
    "\n",
    "x_train = pd.DataFrame(classv2[[\"Advantage\", \"map\"]])\n",
    "y_train = pd.DataFrame(classv2[\"Result\"])"
   ]
  },
  {
   "cell_type": "code",
   "execution_count": 22,
   "id": "Bzj9e5LFi85h",
   "metadata": {
    "id": "Bzj9e5LFi85h"
   },
   "outputs": [],
   "source": [
    "testCopy2 = test"
   ]
  },
  {
   "cell_type": "code",
   "execution_count": 23,
   "id": "uHw6mi9Vh7QD",
   "metadata": {
    "id": "uHw6mi9Vh7QD"
   },
   "outputs": [],
   "source": [
    "testv2 = pd.DataFrame(columns=['Advantage', 'Result', 'map'])"
   ]
  },
  {
   "cell_type": "code",
   "execution_count": 24,
   "id": "_Wgp8Ty6i2r-",
   "metadata": {
    "id": "_Wgp8Ty6i2r-"
   },
   "outputs": [],
   "source": [
    "for i in range(1,31):\n",
    "  advantageString  = str(i) + \"_advantage\"\n",
    "  winnerString = str(i) + \"_winner\"\n",
    "\n",
    "  \n",
    "  tempFrame = pd.concat([testCopy2[advantageString], testCopy2[winnerString], testCopy2[\"_map\"]], ignore_index = True, axis = 1)\n",
    "  tempFrame.rename(columns = {0: 'Advantage', 1: 'Result', 2: 'map'}, inplace = True)\n",
    "\n",
    "  testv2 = pd.concat([testv2, tempFrame], axis = 0, ignore_index = True)"
   ]
  },
  {
   "cell_type": "code",
   "execution_count": 25,
   "id": "qV3cAs07TR6L",
   "metadata": {
    "id": "qV3cAs07TR6L"
   },
   "outputs": [],
   "source": [
    "testv2 = testv2[testv2[\"Result\"] != 0]\n",
    "testv2 = testv2[testv2[\"Advantage\"] != -5]"
   ]
  },
  {
   "cell_type": "code",
   "execution_count": 26,
   "id": "v8ax_d0dl1jA",
   "metadata": {
    "id": "v8ax_d0dl1jA"
   },
   "outputs": [],
   "source": [
    "testv2['map'] = testv2['map'].map(mapdict)"
   ]
  },
  {
   "cell_type": "markdown",
   "id": "dU-KLC63AW5S",
   "metadata": {
    "id": "dU-KLC63AW5S"
   },
   "source": [
    "### Training"
   ]
  },
  {
   "cell_type": "code",
   "execution_count": null,
   "id": "9u5YGlLRjTCh",
   "metadata": {
    "colab": {
     "base_uri": "https://localhost:8080/"
    },
    "id": "9u5YGlLRjTCh",
    "outputId": "c7ee32c8-a094-496b-ad8b-81d428f04497"
   },
   "outputs": [],
   "source": [
    "clfboost = HistGradientBoostingClassifier(categorical_features=[1], loss = 'binary_crossentropy').fit(x_train, y_train)"
   ]
  },
  {
   "cell_type": "markdown",
   "id": "9aRcBysxi9OO",
   "metadata": {
    "id": "9aRcBysxi9OO"
   },
   "source": [
    "### Testing & Evaluation"
   ]
  },
  {
   "cell_type": "code",
   "execution_count": 28,
   "id": "hGQaDOo2pNcH",
   "metadata": {
    "id": "hGQaDOo2pNcH"
   },
   "outputs": [],
   "source": [
    "x_test = pd.DataFrame(testv2[[\"Advantage\", \"map\"]])\n",
    "y_test = pd.DataFrame(testv2[\"Result\"])\n",
    "\n",
    "boostTreePred = clfboost.score(x_test, y_test)"
   ]
  },
  {
   "cell_type": "code",
   "execution_count": 29,
   "id": "xygT810k2gRq",
   "metadata": {
    "colab": {
     "base_uri": "https://localhost:8080/"
    },
    "id": "xygT810k2gRq",
    "outputId": "bc934d11-a55b-403a-9c9e-10f65093b082"
   },
   "outputs": [
    {
     "name": "stdout",
     "output_type": "stream",
     "text": [
      "0.672126897558259\n"
     ]
    }
   ],
   "source": [
    "print(boostTreePred)"
   ]
  },
  {
   "cell_type": "markdown",
   "id": "0VU3nfpSoVum",
   "metadata": {
    "id": "0VU3nfpSoVum"
   },
   "source": [
    "We see that the accuracy score is 0.67 which is the same as the previous model. This means that map bias does not significantly affect the outcome of a round as compared to economic advantage.\n",
    "\n",
    "This is to be expected as when the advantage is within +-3000 gold, the firepower differences between the two teams are not significant as the economy advantage can be attributed to the difference in the economic investments for CTs and T side respectively (CTs generally have more expensive guns than Ts and need to buy defuse kits). Hence, the weak learners (with low depths) will have inaccurate predictions for rounds within this range (rounds are closer to 50-50 in this range). Since majority of rounds are within this range, the final classification accuracy may not change as well.\n"
   ]
  },
  {
   "cell_type": "markdown",
   "id": "mPTvfd63fWGm",
   "metadata": {
    "id": "mPTvfd63fWGm"
   },
   "source": [
    "## Random Forest Classifier"
   ]
  },
  {
   "cell_type": "markdown",
   "id": "OSoknslLf0lO",
   "metadata": {
    "id": "OSoknslLf0lO"
   },
   "source": [
    "For Random forest, we decide to incorporate more predictors such as team matchup to try and increase our prediction accuracy."
   ]
  },
  {
   "cell_type": "markdown",
   "id": "yHoPJFebBBKy",
   "metadata": {
    "id": "yHoPJFebBBKy"
   },
   "source": [
    "### Preparation"
   ]
  },
  {
   "cell_type": "code",
   "execution_count": 30,
   "id": "bfE9RZ27Aq6l",
   "metadata": {
    "id": "bfE9RZ27Aq6l"
   },
   "outputs": [],
   "source": [
    "trainCopy3 = train"
   ]
  },
  {
   "cell_type": "code",
   "execution_count": 31,
   "id": "9KZJq76CG_8d",
   "metadata": {
    "id": "9KZJq76CG_8d"
   },
   "outputs": [],
   "source": [
    "classNN = pd.DataFrame(columns = ['Team 1', 'Team 2', 'Map', 'Advantage', 'Result'])"
   ]
  },
  {
   "cell_type": "code",
   "execution_count": 32,
   "id": "9hx6YP2SGVtF",
   "metadata": {
    "id": "9hx6YP2SGVtF"
   },
   "outputs": [],
   "source": [
    "for i in range(1,31):\n",
    "  advantageString  = str(i) + \"_advantage\"\n",
    "  winnerString = str(i) + \"_winner\"\n",
    "\n",
    "  \n",
    "  tempFrame = pd.concat([trainCopy3[\"team_1\"], trainCopy3[\"team_2\"], trainCopy3[\"_map\"], trainCopy3[advantageString], trainCopy3[winnerString]], ignore_index = True, axis = 1)\n",
    "  tempFrame.rename(columns = {0: 'Team 1', 1: 'Team 2', 2: 'Map', 3: 'Advantage', 4: 'Result'}, inplace = True)\n",
    "\n",
    "  classNN = pd.concat([classNN, tempFrame], axis = 0, ignore_index = True)"
   ]
  },
  {
   "cell_type": "code",
   "execution_count": 33,
   "id": "pdWezVTTtmrK",
   "metadata": {
    "id": "pdWezVTTtmrK"
   },
   "outputs": [],
   "source": [
    "teamscolumns = cleancopy[\"team_1\"].append(cleancopy[\"team_2\"])\n",
    "teamsList = teamscolumns.tolist()\n",
    "teamsList = dict.fromkeys(teamsList)\n",
    "sortTeams = {key: val for key, val in sorted(teamsList.items(), key = lambda ele: ele[0], reverse = False)}\n",
    "keys = list(sortTeams.keys())"
   ]
  },
  {
   "cell_type": "code",
   "execution_count": 34,
   "id": "g-zBhUCcvvjD",
   "metadata": {
    "id": "g-zBhUCcvvjD"
   },
   "outputs": [],
   "source": [
    "i=0\n",
    "for item in keys:\n",
    "  sortTeams.update({item : i})\n",
    "  i+=1 "
   ]
  },
  {
   "cell_type": "code",
   "execution_count": 35,
   "id": "jZufVA6-x8sI",
   "metadata": {
    "id": "jZufVA6-x8sI"
   },
   "outputs": [],
   "source": [
    "classNN = classNN[classNN[\"Result\"] != 0] \n",
    "classNN = classNN[classNN[\"Advantage\"] != -5] "
   ]
  },
  {
   "cell_type": "code",
   "execution_count": 36,
   "id": "mIMQ4WFqVSvW",
   "metadata": {
    "id": "mIMQ4WFqVSvW"
   },
   "outputs": [],
   "source": [
    "testCopy3 = testCopy"
   ]
  },
  {
   "cell_type": "code",
   "execution_count": 37,
   "id": "Z8s_iGdvVF7h",
   "metadata": {
    "id": "Z8s_iGdvVF7h"
   },
   "outputs": [],
   "source": [
    "testNN = pd.DataFrame(columns = ['Team 1', 'Team 2', 'Map', 'Advantage', 'Result'])"
   ]
  },
  {
   "cell_type": "code",
   "execution_count": 38,
   "id": "FftCPMn4VJrj",
   "metadata": {
    "id": "FftCPMn4VJrj"
   },
   "outputs": [],
   "source": [
    "for i in range(1,31):\n",
    "  advantageString  = str(i) + \"_advantage\"\n",
    "  winnerString = str(i) + \"_winner\"\n",
    "\n",
    "  \n",
    "  tempFrame = pd.concat([testCopy3[\"team_1\"], testCopy3[\"team_2\"], testCopy3[\"_map\"], testCopy3[advantageString], testCopy3[winnerString]], ignore_index = True, axis = 1)\n",
    "  tempFrame.rename(columns = {0: 'Team 1', 1: 'Team 2', 2: 'Map', 3: 'Advantage', 4: 'Result'}, inplace = True)\n",
    "\n",
    "  testNN = pd.concat([testNN, tempFrame], axis = 0, ignore_index = True)"
   ]
  },
  {
   "cell_type": "code",
   "execution_count": 39,
   "id": "zrw8qWW6CQjB",
   "metadata": {
    "id": "zrw8qWW6CQjB"
   },
   "outputs": [],
   "source": [
    "testNN = testNN[testNN[\"Result\"] != 0] \n",
    "testNN = testNN[testNN[\"Advantage\"] != -5] "
   ]
  },
  {
   "cell_type": "code",
   "execution_count": 40,
   "id": "4VsOgK2Iknso",
   "metadata": {
    "id": "4VsOgK2Iknso"
   },
   "outputs": [],
   "source": [
    "classNN2 = classNN\n",
    "testNN2 = testNN"
   ]
  },
  {
   "cell_type": "code",
   "execution_count": 41,
   "id": "fCPa2LXUrJzc",
   "metadata": {
    "id": "fCPa2LXUrJzc"
   },
   "outputs": [],
   "source": [
    "numeric_features = [\"Advantage\"]\n",
    "numeric_transformer = Pipeline(steps=[(\"imputer\", SimpleImputer(strategy=\"median\")), (\"scaler\", StandardScaler())])\n",
    "\n",
    "categorical_features = [\"Team 1\", \"Team 2\", \"Map\"]\n",
    "categorical_transformer = OneHotEncoder(handle_unknown=\"ignore\")\n",
    "\n",
    "preprocessor = ColumnTransformer(\n",
    "    transformers=[(\"num\", numeric_transformer, numeric_features), (\"cat\", categorical_transformer, categorical_features)])"
   ]
  },
  {
   "cell_type": "markdown",
   "id": "lfJ9M-NnvjJ2",
   "metadata": {
    "id": "lfJ9M-NnvjJ2"
   },
   "source": [
    "### Training & testing"
   ]
  },
  {
   "cell_type": "code",
   "execution_count": 42,
   "id": "nu9hkJ2RsArU",
   "metadata": {
    "id": "nu9hkJ2RsArU"
   },
   "outputs": [],
   "source": [
    "clf = Pipeline(steps=[(\"preprocessor\", preprocessor), (\"classifier\", RandomForestClassifier(max_depth = 50))])\n",
    "\n",
    "clf.fit(classNN2[[\"Team 1\", \"Team 2\", \"Map\", \"Advantage\"]], classNN2[\"Result\"])\n",
    "\n",
    "forestpred = clf.score(testNN2[[\"Team 1\", \"Team 2\", \"Map\", \"Advantage\"]], testNN2[\"Result\"])\n"
   ]
  },
  {
   "cell_type": "markdown",
   "id": "el97oxyfBNWp",
   "metadata": {
    "id": "el97oxyfBNWp"
   },
   "source": [
    "### Evaluation"
   ]
  },
  {
   "cell_type": "markdown",
   "id": "Z2TSs8cmwEI3",
   "metadata": {
    "id": "Z2TSs8cmwEI3"
   },
   "source": [
    "Our prediction accuracy has not increased with even more predictors. Hence, round outcome is mostly affected by economic advantage instead of team matchups and map bias."
   ]
  },
  {
   "cell_type": "code",
   "execution_count": 43,
   "id": "qR2F5-cZ7TOf",
   "metadata": {
    "colab": {
     "base_uri": "https://localhost:8080/"
    },
    "id": "qR2F5-cZ7TOf",
    "outputId": "340530c5-e9c0-43e5-8cad-80ea2ef7eb7f"
   },
   "outputs": [
    {
     "name": "stdout",
     "output_type": "stream",
     "text": [
      "0.660715143019002\n"
     ]
    }
   ],
   "source": [
    "print(forestpred)"
   ]
  },
  {
   "cell_type": "markdown",
   "id": "kdIN_i5l5eKR",
   "metadata": {
    "id": "kdIN_i5l5eKR"
   },
   "source": [
    "## Part 3: Comparison of models\n"
   ]
  },
  {
   "cell_type": "code",
   "execution_count": 44,
   "id": "Ohb3JPdaBjSQ",
   "metadata": {
    "id": "Ohb3JPdaBjSQ"
   },
   "outputs": [],
   "source": [
    "comparisonFrame = pd.DataFrame({'Model' : ['Decision Tree Classifier', \"Gradient Boosting Classifier\", \"Random Forest Classifier\"], 'Accuracy' : [predtree, boostTreePred, forestpred]})"
   ]
  },
  {
   "cell_type": "code",
   "execution_count": 45,
   "id": "QA2r9C4iDS31",
   "metadata": {
    "colab": {
     "base_uri": "https://localhost:8080/",
     "height": 851
    },
    "id": "QA2r9C4iDS31",
    "outputId": "df4bace8-f7a3-4686-cef4-73dc13d43015"
   },
   "outputs": [
    {
     "data": {
      "text/plain": [
       "<AxesSubplot:xlabel='Model', ylabel='Accuracy'>"
      ]
     },
     "execution_count": 45,
     "metadata": {},
     "output_type": "execute_result"
    },
    {
     "data": {
      "image/png": "[encoded data removed]",
      "text/plain": [
       "<Figure size 1008x1008 with 1 Axes>"
      ]
     },
     "metadata": {},
     "output_type": "display_data"
    }
   ],
   "source": [
    "sb.set(font_scale=1.3)\n",
    "plt.figure(figsize=(14,14))\n",
    "sb.barplot(x = comparisonFrame[\"Model\"], y= comparisonFrame[\"Accuracy\"], )"
   ]
  },
  {
   "cell_type": "code",
   "execution_count": 46,
   "id": "9BIFH8t97Yk_",
   "metadata": {
    "colab": {
     "base_uri": "https://localhost:8080/"
    },
    "id": "9BIFH8t97Yk_",
    "outputId": "e92fca11-d8f5-4788-8e58-c7357225ca1d"
   },
   "outputs": [
    {
     "name": "stdout",
     "output_type": "stream",
     "text": [
      "Decision Tree Classifier Accuracy:  0.6711955217144997\n",
      "Gradient Boosting Classifier Accuracy:  0.672126897558259\n",
      "Random Forest Classifier Accuracy:  0.660715143019002\n"
     ]
    }
   ],
   "source": [
    "print(\"Decision Tree Classifier Accuracy: \" , predtree)\n",
    "print(\"Gradient Boosting Classifier Accuracy: \", boostTreePred)\n",
    "print(\"Random Forest Classifier Accuracy: \", forestpred)"
   ]
  },
  {
   "cell_type": "markdown",
   "id": "e9K1mEmKyOPi",
   "metadata": {
    "id": "e9K1mEmKyOPi"
   },
   "source": [
    "Based on accuracy, we can choose between Decision Tree and Gradient Boosting Classifier. Gradient Boosting Classifier offers a very slightly higher accuracy, however, considering that Decision Tree Classifiers are faster and utilise less resources, our team still considers it the most optimal algorithm to use for predictions."
   ]
  },
  {
   "cell_type": "code",
   "execution_count": null,
   "id": "57a675c9-7c95-4734-ae62-9ea52c383039",
   "metadata": {},
   "outputs": [],
   "source": []
  }
 ],
 "metadata": {
  "colab": {
   "collapsed_sections": [],
   "name": "1015assignment.ipynb",
   "provenance": [],
   "toc_visible": true
  },
  "kernelspec": {
   "display_name": "Python 3 (ipykernel)",
   "language": "python",
   "name": "python3"
  },
  "language_info": {
   "codemirror_mode": {
    "name": "ipython",
    "version": 3
   },
   "file_extension": ".py",
   "mimetype": "text/x-python",
   "name": "python",
   "nbconvert_exporter": "python",
   "pygments_lexer": "ipython3",
   "version": "3.9.6"
  }
 },
 "nbformat": 4,
 "nbformat_minor": 5
}
