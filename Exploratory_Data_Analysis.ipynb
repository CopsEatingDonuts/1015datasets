{
 "cells": [
  {
   "cell_type": "markdown",
   "metadata": {
    "id": "rUMQlxhm_uVF"
   },
   "source": [
    "# Importing of Libraries"
   ]
  },
  {
   "cell_type": "code",
   "execution_count": 1,
   "metadata": {
    "id": "KA1lIJGD_bga"
   },
   "outputs": [],
   "source": [
    "import numpy as np\n",
    "import pandas as pd\n",
    "import seaborn as sb\n",
    "import matplotlib.pyplot as plt\n",
    "from sklearn.model_selection import train_test_split\n",
    "sb.set()"
   ]
  },
  {
   "cell_type": "markdown",
   "metadata": {
    "id": "DlCW9Doi_tAA"
   },
   "source": [
    "# Exploratory Data Analysis\n",
    "We conduct 2 Exploratory Data Analysis (EDA) to find out some early relationships:\n",
    "\n",
    "1. Economy Advantage in relation to the round's winner\n",
    "2. Terrorist/Counter-Terrorist Win rate on each map"
   ]
  },
  {
   "cell_type": "code",
   "execution_count": null,
   "metadata": {
    "id": "hSQo0xMHAHq8"
   },
   "outputs": [],
   "source": [
    "clean = pd.read_csv(\"/data/clean.csv\") #Import data that is exported after data cleaning\n",
    "cleancopy = clean #Copy of the data frame for EDA"
   ]
  },
  {
   "cell_type": "code",
   "execution_count": 4,
   "metadata": {
    "id": "WUBZD1abAkvI"
   },
   "outputs": [
    {
     "data": {
      "text/plain": [
       "(32928, 129)"
      ]
     },
     "execution_count": 4,
     "metadata": {},
     "output_type": "execute_result"
    }
   ],
   "source": [
    "#Splitting the cleaned dataframe into 80/20 for train/test ML\n",
    "train = cleancopy.sample(frac = 0.8, random_state = 100)\n",
    "train.shape\n"
   ]
  },
  {
   "cell_type": "code",
   "execution_count": 5,
   "metadata": {},
   "outputs": [
    {
     "data": {
      "text/plain": [
       "(8232, 129)"
      ]
     },
     "execution_count": 5,
     "metadata": {},
     "output_type": "execute_result"
    }
   ],
   "source": [
    "#Creating test dataframe by dropping train data from cleancopy.\n",
    "test = cleancopy.drop(index = train.index) #DO NOT USE TEST DATA UNTIL FOR ACTUAL TEST OF MODEL\n",
    "test.shape"
   ]
  },
  {
   "cell_type": "code",
   "execution_count": 6,
   "metadata": {
    "id": "-lUfWHYtAlOn"
   },
   "outputs": [
    {
     "data": {
      "text/plain": [
       "(9878, 129)"
      ]
     },
     "execution_count": 6,
     "metadata": {},
     "output_type": "execute_result"
    }
   ],
   "source": [
    "#Taking 30% of train data to run EDA on\n",
    "\n",
    "edadata = train.sample(frac = 0.3, random_state = 100)\n",
    "edadata.shape"
   ]
  },
  {
   "cell_type": "code",
   "execution_count": 7,
   "metadata": {
    "id": "61-BGCzNAsx3"
   },
   "outputs": [
    {
     "data": {
      "text/html": [
       "<div>\n",
       "<style scoped>\n",
       "    .dataframe tbody tr th:only-of-type {\n",
       "        vertical-align: middle;\n",
       "    }\n",
       "\n",
       "    .dataframe tbody tr th {\n",
       "        vertical-align: top;\n",
       "    }\n",
       "\n",
       "    .dataframe thead th {\n",
       "        text-align: right;\n",
       "    }\n",
       "</style>\n",
       "<table border=\"1\" class=\"dataframe\">\n",
       "  <thead>\n",
       "    <tr style=\"text-align: right;\">\n",
       "      <th></th>\n",
       "      <th>date</th>\n",
       "      <th>match_id</th>\n",
       "      <th>event_id</th>\n",
       "      <th>team_1</th>\n",
       "      <th>team_2</th>\n",
       "      <th>best_of</th>\n",
       "      <th>_map</th>\n",
       "      <th>t1_start</th>\n",
       "      <th>t2_start</th>\n",
       "      <th>1_t1</th>\n",
       "      <th>...</th>\n",
       "      <th>21_advantage</th>\n",
       "      <th>22_advantage</th>\n",
       "      <th>23_advantage</th>\n",
       "      <th>24_advantage</th>\n",
       "      <th>25_advantage</th>\n",
       "      <th>26_advantage</th>\n",
       "      <th>27_advantage</th>\n",
       "      <th>28_advantage</th>\n",
       "      <th>29_advantage</th>\n",
       "      <th>30_advantage</th>\n",
       "    </tr>\n",
       "  </thead>\n",
       "  <tbody>\n",
       "    <tr>\n",
       "      <th>2541</th>\n",
       "      <td>2019-12-08</td>\n",
       "      <td>2338286</td>\n",
       "      <td>2606</td>\n",
       "      <td>pro100</td>\n",
       "      <td>HellRaisers</td>\n",
       "      <td>3</td>\n",
       "      <td>Train</td>\n",
       "      <td>t</td>\n",
       "      <td>ct</td>\n",
       "      <td>4200.0</td>\n",
       "      <td>...</td>\n",
       "      <td>-4950.0</td>\n",
       "      <td>-23000.0</td>\n",
       "      <td>-1200.0</td>\n",
       "      <td>-22300.0</td>\n",
       "      <td>3700.0</td>\n",
       "      <td>4750.0</td>\n",
       "      <td>1300.0</td>\n",
       "      <td>-15100.0</td>\n",
       "      <td>5.0</td>\n",
       "      <td>5.0</td>\n",
       "    </tr>\n",
       "    <tr>\n",
       "      <th>17239</th>\n",
       "      <td>2018-11-21</td>\n",
       "      <td>2329365</td>\n",
       "      <td>4265</td>\n",
       "      <td>HAVU</td>\n",
       "      <td>Windigo</td>\n",
       "      <td>3</td>\n",
       "      <td>Train</td>\n",
       "      <td>t</td>\n",
       "      <td>ct</td>\n",
       "      <td>3150.0</td>\n",
       "      <td>...</td>\n",
       "      <td>8350.0</td>\n",
       "      <td>10850.0</td>\n",
       "      <td>8100.0</td>\n",
       "      <td>22700.0</td>\n",
       "      <td>27700.0</td>\n",
       "      <td>9000.0</td>\n",
       "      <td>13750.0</td>\n",
       "      <td>16600.0</td>\n",
       "      <td>3800.0</td>\n",
       "      <td>17950.0</td>\n",
       "    </tr>\n",
       "    <tr>\n",
       "      <th>29255</th>\n",
       "      <td>2018-03-17</td>\n",
       "      <td>2320933</td>\n",
       "      <td>3624</td>\n",
       "      <td>Property</td>\n",
       "      <td>LPSP</td>\n",
       "      <td>3</td>\n",
       "      <td>Mirage</td>\n",
       "      <td>ct</td>\n",
       "      <td>t</td>\n",
       "      <td>4350.0</td>\n",
       "      <td>...</td>\n",
       "      <td>-3450.0</td>\n",
       "      <td>-9550.0</td>\n",
       "      <td>20700.0</td>\n",
       "      <td>-16700.0</td>\n",
       "      <td>12300.0</td>\n",
       "      <td>-22050.0</td>\n",
       "      <td>-31550.0</td>\n",
       "      <td>-4150.0</td>\n",
       "      <td>5.0</td>\n",
       "      <td>5.0</td>\n",
       "    </tr>\n",
       "    <tr>\n",
       "      <th>458</th>\n",
       "      <td>2020-02-16</td>\n",
       "      <td>2339600</td>\n",
       "      <td>5213</td>\n",
       "      <td>Bravos</td>\n",
       "      <td>Redemption POA</td>\n",
       "      <td>3</td>\n",
       "      <td>Dust2</td>\n",
       "      <td>ct</td>\n",
       "      <td>t</td>\n",
       "      <td>4350.0</td>\n",
       "      <td>...</td>\n",
       "      <td>-20500.0</td>\n",
       "      <td>-3950.0</td>\n",
       "      <td>-1950.0</td>\n",
       "      <td>22800.0</td>\n",
       "      <td>0.0</td>\n",
       "      <td>19000.0</td>\n",
       "      <td>-6000.0</td>\n",
       "      <td>-100.0</td>\n",
       "      <td>-3900.0</td>\n",
       "      <td>-19100.0</td>\n",
       "    </tr>\n",
       "    <tr>\n",
       "      <th>7598</th>\n",
       "      <td>2019-08-13</td>\n",
       "      <td>2335422</td>\n",
       "      <td>4760</td>\n",
       "      <td>OFFSET</td>\n",
       "      <td>The Final Tribe</td>\n",
       "      <td>3</td>\n",
       "      <td>Dust2</td>\n",
       "      <td>ct</td>\n",
       "      <td>t</td>\n",
       "      <td>4250.0</td>\n",
       "      <td>...</td>\n",
       "      <td>19900.0</td>\n",
       "      <td>1800.0</td>\n",
       "      <td>900.0</td>\n",
       "      <td>-5250.0</td>\n",
       "      <td>-950.0</td>\n",
       "      <td>5.0</td>\n",
       "      <td>5.0</td>\n",
       "      <td>5.0</td>\n",
       "      <td>5.0</td>\n",
       "      <td>5.0</td>\n",
       "    </tr>\n",
       "  </tbody>\n",
       "</table>\n",
       "<p>5 rows × 129 columns</p>\n",
       "</div>"
      ],
      "text/plain": [
       "             date  match_id  event_id    team_1           team_2 best_of  \\\n",
       "2541   2019-12-08   2338286      2606    pro100      HellRaisers       3   \n",
       "17239  2018-11-21   2329365      4265      HAVU          Windigo       3   \n",
       "29255  2018-03-17   2320933      3624  Property             LPSP       3   \n",
       "458    2020-02-16   2339600      5213    Bravos   Redemption POA       3   \n",
       "7598   2019-08-13   2335422      4760    OFFSET  The Final Tribe       3   \n",
       "\n",
       "         _map t1_start t2_start    1_t1  ...  21_advantage  22_advantage  \\\n",
       "2541    Train        t       ct  4200.0  ...       -4950.0      -23000.0   \n",
       "17239   Train        t       ct  3150.0  ...        8350.0       10850.0   \n",
       "29255  Mirage       ct        t  4350.0  ...       -3450.0       -9550.0   \n",
       "458     Dust2       ct        t  4350.0  ...      -20500.0       -3950.0   \n",
       "7598    Dust2       ct        t  4250.0  ...       19900.0        1800.0   \n",
       "\n",
       "       23_advantage  24_advantage  25_advantage  26_advantage  27_advantage  \\\n",
       "2541        -1200.0      -22300.0        3700.0        4750.0        1300.0   \n",
       "17239        8100.0       22700.0       27700.0        9000.0       13750.0   \n",
       "29255       20700.0      -16700.0       12300.0      -22050.0      -31550.0   \n",
       "458         -1950.0       22800.0           0.0       19000.0       -6000.0   \n",
       "7598          900.0       -5250.0        -950.0           5.0           5.0   \n",
       "\n",
       "       28_advantage  29_advantage  30_advantage  \n",
       "2541       -15100.0           5.0           5.0  \n",
       "17239       16600.0        3800.0       17950.0  \n",
       "29255       -4150.0           5.0           5.0  \n",
       "458          -100.0       -3900.0      -19100.0  \n",
       "7598            5.0           5.0           5.0  \n",
       "\n",
       "[5 rows x 129 columns]"
      ]
     },
     "execution_count": 7,
     "metadata": {},
     "output_type": "execute_result"
    }
   ],
   "source": [
    "edadata.head()"
   ]
  },
  {
   "cell_type": "markdown",
   "metadata": {
    "id": "2VMsubEIA2tJ"
   },
   "source": [
    "## Part 1: Economic Advantage and Round Outcome"
   ]
  },
  {
   "cell_type": "code",
   "execution_count": 8,
   "metadata": {
    "id": "8zEci3B7AwWr"
   },
   "outputs": [],
   "source": [
    "edaEconomy = pd.DataFrame(columns=[\"Advantage\", \"Result\"]) #Economic advantage vs winner relationship"
   ]
  },
  {
   "cell_type": "code",
   "execution_count": 9,
   "metadata": {
    "id": "viDqhYceA16f"
   },
   "outputs": [],
   "source": [
    "edadataCopy = edadata"
   ]
  },
  {
   "cell_type": "code",
   "execution_count": 10,
   "metadata": {},
   "outputs": [],
   "source": [
    "for i in range(1,31):\n",
    "  advantageString  = str(i) + \"_advantage\"\n",
    "  winnerString = str(i) + \"_winner\"\n",
    "\n",
    "  \n",
    "  tempFrame = pd.concat([edadataCopy[advantageString], edadataCopy[winnerString]], ignore_index = True, axis = 1)\n",
    "  tempFrame.rename(columns = {0: 'Advantage', 1: 'Result'}, inplace = True)\n",
    "\n",
    "  edaEconomy = pd.concat([edaEconomy, tempFrame], axis = 0, ignore_index = True)\n"
   ]
  },
  {
   "cell_type": "markdown",
   "metadata": {},
   "source": [
    "### Note: A Positive advantage means that Team 1 spent more for that round than Team 2, and vice versa"
   ]
  },
  {
   "cell_type": "code",
   "execution_count": 11,
   "metadata": {
    "colab": {
     "base_uri": "https://localhost:8080/",
     "height": 190
    },
    "id": "Ov3vVIjKA8Fw",
    "outputId": "8a33be21-c67d-4ed4-b966-d758a3a06e3a"
   },
   "outputs": [],
   "source": [
    "edaEconomy = edaEconomy[edaEconomy.Result != 0] #drop rounds with no outcome\n",
    "edaEconomy = edaEconomy[edaEconomy.Advantage != 5] #Drop rounds not played (See Data Cleaning: We initialised Team 1's spendings as 5 and Team 2's as 0 for rounds not played)"
   ]
  },
  {
   "cell_type": "code",
   "execution_count": 12,
   "metadata": {
    "id": "OaZYmuv9BeWw"
   },
   "outputs": [
    {
     "data": {
      "text/plain": [
       "1.0    128711\n",
       "2.0    121367\n",
       "Name: Result, dtype: int64"
      ]
     },
     "execution_count": 12,
     "metadata": {},
     "output_type": "execute_result"
    }
   ],
   "source": [
    "edaEconomy[\"Result\"].value_counts() #check how close in count"
   ]
  },
  {
   "cell_type": "code",
   "execution_count": 13,
   "metadata": {
    "id": "-UjFCFtLBf8O"
   },
   "outputs": [],
   "source": [
    "sb.set(style = 'whitegrid')"
   ]
  },
  {
   "cell_type": "markdown",
   "metadata": {
    "id": "MLCt9t7kBh2E"
   },
   "source": [
    "### Visualisation"
   ]
  },
  {
   "cell_type": "code",
   "execution_count": 14,
   "metadata": {
    "id": "2W2zzdacBg-B"
   },
   "outputs": [
    {
     "data": {
      "text/plain": [
       "<AxesSubplot:xlabel='Result', ylabel='count'>"
      ]
     },
     "execution_count": 14,
     "metadata": {},
     "output_type": "execute_result"
    },
    {
     "data": {
      "image/png": "[encoded data removed]",
      "text/plain": [
       "<Figure size 864x432 with 1 Axes>"
      ]
     },
     "metadata": {},
     "output_type": "display_data"
    }
   ],
   "source": [
    "f = plt.figure(figsize=(12, 6))\n",
    "\n",
    "sb.countplot(x = edaEconomy['Result']) "
   ]
  },
  {
   "cell_type": "markdown",
   "metadata": {
    "id": "5UtfL_4zBq6n"
   },
   "source": [
    "From the bar graph, we observed that Team 1 has a higher win count than Team 2. This could be attributed to sample bias as it should theoretically be 50/50."
   ]
  },
  {
   "cell_type": "code",
   "execution_count": 15,
   "metadata": {},
   "outputs": [
    {
     "data": {
      "text/plain": [
       "<AxesSubplot:xlabel='Advantage', ylabel='Count'>"
      ]
     },
     "execution_count": 15,
     "metadata": {},
     "output_type": "execute_result"
    },
    {
     "data": {
      "image/png": "[encoded data removed]",
      "text/plain": [
       "<Figure size 864x432 with 1 Axes>"
      ]
     },
     "metadata": {},
     "output_type": "display_data"
    }
   ],
   "source": [
    "f = plt.figure(figsize=(12, 6))\n",
    "\n",
    "sb.histplot(data = edaEconomy, x = edaEconomy['Advantage']) #very symmetric plot"
   ]
  },
  {
   "cell_type": "code",
   "execution_count": 16,
   "metadata": {
    "id": "Y5jpRoRCBqUM"
   },
   "outputs": [
    {
     "data": {
      "text/plain": [
       "<AxesSubplot:xlabel='Advantage'>"
      ]
     },
     "execution_count": 16,
     "metadata": {},
     "output_type": "execute_result"
    },
    {
     "data": {
      "image/png": "[encoded data removed]",
      "text/plain": [
       "<Figure size 864x432 with 1 Axes>"
      ]
     },
     "metadata": {},
     "output_type": "display_data"
    }
   ],
   "source": [
    "f = plt.figure(figsize=(12, 6))\n",
    "\n",
    "sb.violinplot(x = edaEconomy['Advantage'], gridsize=100, width=0.8) #very symmetric plot"
   ]
  },
  {
   "cell_type": "code",
   "execution_count": 17,
   "metadata": {
    "id": "qSGu7yBtCJpQ"
   },
   "outputs": [
    {
     "data": {
      "text/plain": [
       "count    250078.000000\n",
       "mean        379.513792\n",
       "std       13025.817576\n",
       "min      -33550.000000\n",
       "25%       -7250.000000\n",
       "50%          50.000000\n",
       "75%        8250.000000\n",
       "max       36250.000000\n",
       "Name: Advantage, dtype: float64"
      ]
     },
     "execution_count": 17,
     "metadata": {},
     "output_type": "execute_result"
    }
   ],
   "source": [
    "edaEconomy[\"Advantage\"].describe()"
   ]
  },
  {
   "cell_type": "markdown",
   "metadata": {
    "id": "mvZL2uW1CIbu"
   },
   "source": [
    "### Observation and Conclusions\n",
    "\n",
    "From the histogram and violin plot, we can draw some observations:\n",
    "\n",
    "\n",
    "1.   There are many round where there is little to no economic advantage from either team. The mean being at 379.5 means there is a slight advantage from team 1 in economy. This may explain why the bar plot above has a slightly higher win count for team 1.\n",
    "\n",
    "2.   The symmetric plot indicates that either team 1 or 2 can have the same amount of economic advantage over the other team. Hence there is no bias towards either team forming a significant economic advantage.\n",
    "\n",
    "\n",
    "\n"
   ]
  },
  {
   "cell_type": "markdown",
   "metadata": {
    "id": "UTzVg8rKCxVT"
   },
   "source": [
    "## Part 2: Counter-Terrorist win rate on each map"
   ]
  },
  {
   "cell_type": "code",
   "execution_count": 18,
   "metadata": {
    "id": "RDujc2nvC2dp"
   },
   "outputs": [],
   "source": [
    "edadataCopy2 = edadata\n",
    "\n",
    "roundlist = edadataCopy2.columns\n",
    "roundlist = roundlist[6:9].append(roundlist[69:99])"
   ]
  },
  {
   "cell_type": "code",
   "execution_count": 19,
   "metadata": {
    "id": "CxcTHAhZC-X2"
   },
   "outputs": [
    {
     "data": {
      "text/html": [
       "<div>\n",
       "<style scoped>\n",
       "    .dataframe tbody tr th:only-of-type {\n",
       "        vertical-align: middle;\n",
       "    }\n",
       "\n",
       "    .dataframe tbody tr th {\n",
       "        vertical-align: top;\n",
       "    }\n",
       "\n",
       "    .dataframe thead th {\n",
       "        text-align: right;\n",
       "    }\n",
       "</style>\n",
       "<table border=\"1\" class=\"dataframe\">\n",
       "  <thead>\n",
       "    <tr style=\"text-align: right;\">\n",
       "      <th></th>\n",
       "      <th>_map</th>\n",
       "      <th>t1_start</th>\n",
       "      <th>t2_start</th>\n",
       "      <th>1_winner</th>\n",
       "      <th>2_winner</th>\n",
       "      <th>3_winner</th>\n",
       "      <th>4_winner</th>\n",
       "      <th>5_winner</th>\n",
       "      <th>6_winner</th>\n",
       "      <th>7_winner</th>\n",
       "      <th>...</th>\n",
       "      <th>21_winner</th>\n",
       "      <th>22_winner</th>\n",
       "      <th>23_winner</th>\n",
       "      <th>24_winner</th>\n",
       "      <th>25_winner</th>\n",
       "      <th>26_winner</th>\n",
       "      <th>27_winner</th>\n",
       "      <th>28_winner</th>\n",
       "      <th>29_winner</th>\n",
       "      <th>30_winner</th>\n",
       "    </tr>\n",
       "  </thead>\n",
       "  <tbody>\n",
       "    <tr>\n",
       "      <th>2541</th>\n",
       "      <td>Train</td>\n",
       "      <td>t</td>\n",
       "      <td>ct</td>\n",
       "      <td>2.0</td>\n",
       "      <td>1.0</td>\n",
       "      <td>1.0</td>\n",
       "      <td>1.0</td>\n",
       "      <td>1.0</td>\n",
       "      <td>1.0</td>\n",
       "      <td>2.0</td>\n",
       "      <td>...</td>\n",
       "      <td>2.0</td>\n",
       "      <td>2.0</td>\n",
       "      <td>2.0</td>\n",
       "      <td>1.0</td>\n",
       "      <td>1.0</td>\n",
       "      <td>2.0</td>\n",
       "      <td>2.0</td>\n",
       "      <td>1.0</td>\n",
       "      <td>0.0</td>\n",
       "      <td>0.0</td>\n",
       "    </tr>\n",
       "    <tr>\n",
       "      <th>17239</th>\n",
       "      <td>Train</td>\n",
       "      <td>t</td>\n",
       "      <td>ct</td>\n",
       "      <td>1.0</td>\n",
       "      <td>1.0</td>\n",
       "      <td>2.0</td>\n",
       "      <td>2.0</td>\n",
       "      <td>2.0</td>\n",
       "      <td>2.0</td>\n",
       "      <td>1.0</td>\n",
       "      <td>...</td>\n",
       "      <td>1.0</td>\n",
       "      <td>2.0</td>\n",
       "      <td>1.0</td>\n",
       "      <td>1.0</td>\n",
       "      <td>1.0</td>\n",
       "      <td>1.0</td>\n",
       "      <td>1.0</td>\n",
       "      <td>2.0</td>\n",
       "      <td>1.0</td>\n",
       "      <td>2.0</td>\n",
       "    </tr>\n",
       "    <tr>\n",
       "      <th>29255</th>\n",
       "      <td>Mirage</td>\n",
       "      <td>ct</td>\n",
       "      <td>t</td>\n",
       "      <td>2.0</td>\n",
       "      <td>2.0</td>\n",
       "      <td>2.0</td>\n",
       "      <td>1.0</td>\n",
       "      <td>2.0</td>\n",
       "      <td>1.0</td>\n",
       "      <td>2.0</td>\n",
       "      <td>...</td>\n",
       "      <td>2.0</td>\n",
       "      <td>1.0</td>\n",
       "      <td>2.0</td>\n",
       "      <td>1.0</td>\n",
       "      <td>2.0</td>\n",
       "      <td>2.0</td>\n",
       "      <td>2.0</td>\n",
       "      <td>2.0</td>\n",
       "      <td>0.0</td>\n",
       "      <td>0.0</td>\n",
       "    </tr>\n",
       "    <tr>\n",
       "      <th>458</th>\n",
       "      <td>Dust2</td>\n",
       "      <td>ct</td>\n",
       "      <td>t</td>\n",
       "      <td>1.0</td>\n",
       "      <td>1.0</td>\n",
       "      <td>1.0</td>\n",
       "      <td>1.0</td>\n",
       "      <td>1.0</td>\n",
       "      <td>1.0</td>\n",
       "      <td>2.0</td>\n",
       "      <td>...</td>\n",
       "      <td>2.0</td>\n",
       "      <td>1.0</td>\n",
       "      <td>1.0</td>\n",
       "      <td>1.0</td>\n",
       "      <td>1.0</td>\n",
       "      <td>2.0</td>\n",
       "      <td>1.0</td>\n",
       "      <td>2.0</td>\n",
       "      <td>2.0</td>\n",
       "      <td>2.0</td>\n",
       "    </tr>\n",
       "    <tr>\n",
       "      <th>7598</th>\n",
       "      <td>Dust2</td>\n",
       "      <td>ct</td>\n",
       "      <td>t</td>\n",
       "      <td>1.0</td>\n",
       "      <td>2.0</td>\n",
       "      <td>2.0</td>\n",
       "      <td>2.0</td>\n",
       "      <td>2.0</td>\n",
       "      <td>1.0</td>\n",
       "      <td>2.0</td>\n",
       "      <td>...</td>\n",
       "      <td>1.0</td>\n",
       "      <td>1.0</td>\n",
       "      <td>2.0</td>\n",
       "      <td>1.0</td>\n",
       "      <td>2.0</td>\n",
       "      <td>0.0</td>\n",
       "      <td>0.0</td>\n",
       "      <td>0.0</td>\n",
       "      <td>0.0</td>\n",
       "      <td>0.0</td>\n",
       "    </tr>\n",
       "  </tbody>\n",
       "</table>\n",
       "<p>5 rows × 33 columns</p>\n",
       "</div>"
      ],
      "text/plain": [
       "         _map t1_start t2_start  1_winner  2_winner  3_winner  4_winner  \\\n",
       "2541    Train        t       ct       2.0       1.0       1.0       1.0   \n",
       "17239   Train        t       ct       1.0       1.0       2.0       2.0   \n",
       "29255  Mirage       ct        t       2.0       2.0       2.0       1.0   \n",
       "458     Dust2       ct        t       1.0       1.0       1.0       1.0   \n",
       "7598    Dust2       ct        t       1.0       2.0       2.0       2.0   \n",
       "\n",
       "       5_winner  6_winner  7_winner  ...  21_winner  22_winner  23_winner  \\\n",
       "2541        1.0       1.0       2.0  ...        2.0        2.0        2.0   \n",
       "17239       2.0       2.0       1.0  ...        1.0        2.0        1.0   \n",
       "29255       2.0       1.0       2.0  ...        2.0        1.0        2.0   \n",
       "458         1.0       1.0       2.0  ...        2.0        1.0        1.0   \n",
       "7598        2.0       1.0       2.0  ...        1.0        1.0        2.0   \n",
       "\n",
       "       24_winner  25_winner  26_winner  27_winner  28_winner  29_winner  \\\n",
       "2541         1.0        1.0        2.0        2.0        1.0        0.0   \n",
       "17239        1.0        1.0        1.0        1.0        2.0        1.0   \n",
       "29255        1.0        2.0        2.0        2.0        2.0        0.0   \n",
       "458          1.0        1.0        2.0        1.0        2.0        2.0   \n",
       "7598         1.0        2.0        0.0        0.0        0.0        0.0   \n",
       "\n",
       "       30_winner  \n",
       "2541         0.0  \n",
       "17239        2.0  \n",
       "29255        0.0  \n",
       "458          2.0  \n",
       "7598         0.0  \n",
       "\n",
       "[5 rows x 33 columns]"
      ]
     },
     "execution_count": 19,
     "metadata": {},
     "output_type": "execute_result"
    }
   ],
   "source": [
    "mapeda = edadataCopy2[roundlist]\n",
    "mapeda.head()"
   ]
  },
  {
   "cell_type": "code",
   "execution_count": 20,
   "metadata": {
    "id": "Xh4El58pC_zj"
   },
   "outputs": [],
   "source": [
    "indexlist = mapeda.index.tolist()\n",
    "maplist = list(set(edadataCopy2[\"_map\"].tolist()))"
   ]
  },
  {
   "cell_type": "code",
   "execution_count": 21,
   "metadata": {
    "id": "qMGMMWfeDBMi"
   },
   "outputs": [],
   "source": [
    "mapframe = pd.DataFrame(columns = [\"map\", \"ct_wins\", \"total_rounds\"])\n",
    "mapframe[\"map\"] = maplist\n",
    "mapframe[\"ct_wins\"] = 0\n",
    "mapframe[\"total_rounds\"] = 0"
   ]
  },
  {
   "cell_type": "code",
   "execution_count": null,
   "metadata": {},
   "outputs": [],
   "source": [
    "for item in indexlist:\n",
    "    ct_win = 0\n",
    "    rounds = 0\n",
    "    if mapeda.loc[item]['t1_start'] == \"ct\":\n",
    "      ct_win += mapeda.loc[item][\"1_winner\" : \"15_winner\"].tolist().count(1)\n",
    "      ct_win += mapeda.loc[item][\"16_winner\" : \"30_winner\"].tolist().count(2)\n",
    "\n",
    "    elif mapeda.loc[item]['t1_start'] == \"t\":\n",
    "      ct_win += mapeda.loc[item][\"1_winner\" : \"15_winner\"].tolist().count(2)\n",
    "      ct_win += mapeda.loc[item][\"16_winner\" : \"30_winner\"].tolist().count(1)\n",
    "\n",
    "    rounds = 30 - mapeda.loc[item][\"1_winner\" : \"30_winner\"].tolist().count(0)\n",
    "\n",
    "    for index in mapframe.index:\n",
    "      if mapframe.loc[index][\"map\"] == edadataCopy2.loc[item][\"_map\"]:\n",
    "        mapframe[\"ct_wins\"][index] += ct_win\n",
    "        mapframe[\"total_rounds\"][index] += rounds\n",
    "\n"
   ]
  },
  {
   "cell_type": "code",
   "execution_count": 23,
   "metadata": {
    "id": "DZpY4pLIDD6a"
   },
   "outputs": [],
   "source": [
    "mapframe[\"ct_percentage\"] =  mapframe[\"ct_wins\"] / mapframe[\"total_rounds\"] "
   ]
  },
  {
   "cell_type": "markdown",
   "metadata": {
    "id": "JhToVnXKDF17"
   },
   "source": [
    "### Visualisation"
   ]
  },
  {
   "cell_type": "code",
   "execution_count": 24,
   "metadata": {
    "id": "7BdKvoIZDHW5"
   },
   "outputs": [
    {
     "data": {
      "text/plain": [
       "<AxesSubplot:xlabel='map', ylabel='ct_percentage'>"
      ]
     },
     "execution_count": 24,
     "metadata": {},
     "output_type": "execute_result"
    },
    {
     "data": {
      "image/png": "[encoded data removed]",
      "text/plain": [
       "<Figure size 864x432 with 1 Axes>"
      ]
     },
     "metadata": {},
     "output_type": "display_data"
    }
   ],
   "source": [
    "#bar graph\n",
    "\n",
    "sb.set(style = 'whitegrid')\n",
    "f = plt.figure(figsize=(12, 6))\n",
    "sb.barplot(x = mapframe[\"map\"], y= mapframe[\"ct_percentage\"])\n"
   ]
  },
  {
   "cell_type": "markdown",
   "metadata": {
    "id": "Oyrtkb5NDJko"
   },
   "source": [
    "### Observations and Conclusions\n",
    "\n",
    "Here we observe that there is some map bias present on certain maps in the competitive map pool. \n",
    "1. Most notably Train, Nuke and Overpass are Counter-Terrorists favoured.\n",
    "2. Cobblestone is the closest to being a \"fair\" map with a Counter-Terrorist win rate that is closest to 50%."
   ]
  },
  {
   "cell_type": "markdown",
   "metadata": {
    "id": "duNabd5-DRB9"
   },
   "source": [
    "# Exporting of Train/Test Dataframes for Machine Learning"
   ]
  },
  {
   "cell_type": "code",
   "execution_count": 26,
   "metadata": {
    "id": "1T1oILdBDQUt"
   },
   "outputs": [],
   "source": [
    "train.to_csv(\"/data/train.csv\", index = False)"
   ]
  },
  {
   "cell_type": "code",
   "execution_count": 27,
   "metadata": {
    "id": "FV4QE-T7DbHT"
   },
   "outputs": [],
   "source": [
    "test.to_csv(\"/data/test.csv\", index = False)"
   ]
  },
  {
   "cell_type": "code",
   "execution_count": null,
   "metadata": {},
   "outputs": [],
   "source": []
  }
 ],
 "metadata": {
  "colab": {
   "name": "Exploratory Data Analysis",
   "provenance": [],
   "toc_visible": true
  },
  "kernelspec": {
   "display_name": "Python 3 (ipykernel)",
   "language": "python",
   "name": "python3"
  },
  "language_info": {
   "codemirror_mode": {
    "name": "ipython",
    "version": 3
   },
   "file_extension": ".py",
   "mimetype": "text/x-python",
   "name": "python",
   "nbconvert_exporter": "python",
   "pygments_lexer": "ipython3",
   "version": "3.9.6"
  }
 },
 "nbformat": 4,
 "nbformat_minor": 4
}
