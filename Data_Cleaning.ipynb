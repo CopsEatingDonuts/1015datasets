{
 "cells": [
  {
   "cell_type": "markdown",
   "metadata": {
    "id": "jLu2Tp6AoBRj"
   },
   "source": [
    "# Importing of Libraries for Data Cleaning"
   ]
  },
  {
   "cell_type": "code",
   "execution_count": 77,
   "metadata": {
    "id": "3066LCC2imih"
   },
   "outputs": [],
   "source": [
    "import numpy as np\n",
    "import pandas as pd"
   ]
  },
  {
   "cell_type": "markdown",
   "metadata": {
    "id": "m8riNCd3mzPJ"
   },
   "source": [
    "# Data Cleaning"
   ]
  },
  {
   "cell_type": "markdown",
   "metadata": {
    "id": "G3Y5IBwwouQE"
   },
   "source": [
    "## Conditions of Data Cleaning\n",
    "\n",
    "We have identified 3 conditions for match to be considered as valid.\n",
    "\n",
    "1. Match has to reach at least 16 rounds (Minimum rounds to win is 16) to be considered otherwise, there is abandonment or potential throwing (Intentionally Losing) of the match.\n",
    "\n",
    "2. For each round, a team's spending cannot exceed 44500 (Maximum value of equipment per person is 8900) and cannot be less than 1000 as everyone starts with a pistol worth 200 dollars.\n",
    "\n",
    "3. Matches should be played on maps that are within the competitive map pool (Cache, Vertigo, Mirage, Dust2, Cobblestone, Inferno, Overpass, Nuke, Train). This is to remove any showmatches where teams consists of random / non-professional players."
   ]
  },
  {
   "cell_type": "code",
   "execution_count": null,
   "metadata": {
    "id": "6fzw1bHjqM7_"
   },
   "outputs": [],
   "source": [
    "data = pd.read_csv(\"/data/economy.csv\")"
   ]
  },
  {
   "cell_type": "code",
   "execution_count": 79,
   "metadata": {
    "colab": {
     "base_uri": "https://localhost:8080/",
     "height": 170
    },
    "id": "j1gLsNnOqROg",
    "outputId": "d226ae42-c44c-44a6-8f29-ac823b598a6a"
   },
   "outputs": [
    {
     "data": {
      "text/plain": [
       "(43234, 99)"
      ]
     },
     "execution_count": 79,
     "metadata": {},
     "output_type": "execute_result"
    }
   ],
   "source": [
    "data.shape"
   ]
  },
  {
   "cell_type": "code",
   "execution_count": 80,
   "metadata": {
    "id": "O8JvLjLYsQPw"
   },
   "outputs": [
    {
     "data": {
      "text/html": [
       "<div>\n",
       "<style scoped>\n",
       "    .dataframe tbody tr th:only-of-type {\n",
       "        vertical-align: middle;\n",
       "    }\n",
       "\n",
       "    .dataframe tbody tr th {\n",
       "        vertical-align: top;\n",
       "    }\n",
       "\n",
       "    .dataframe thead th {\n",
       "        text-align: right;\n",
       "    }\n",
       "</style>\n",
       "<table border=\"1\" class=\"dataframe\">\n",
       "  <thead>\n",
       "    <tr style=\"text-align: right;\">\n",
       "      <th></th>\n",
       "      <th>date</th>\n",
       "      <th>match_id</th>\n",
       "      <th>event_id</th>\n",
       "      <th>team_1</th>\n",
       "      <th>team_2</th>\n",
       "      <th>best_of</th>\n",
       "      <th>_map</th>\n",
       "      <th>t1_start</th>\n",
       "      <th>t2_start</th>\n",
       "      <th>1_t1</th>\n",
       "      <th>...</th>\n",
       "      <th>21_winner</th>\n",
       "      <th>22_winner</th>\n",
       "      <th>23_winner</th>\n",
       "      <th>24_winner</th>\n",
       "      <th>25_winner</th>\n",
       "      <th>26_winner</th>\n",
       "      <th>27_winner</th>\n",
       "      <th>28_winner</th>\n",
       "      <th>29_winner</th>\n",
       "      <th>30_winner</th>\n",
       "    </tr>\n",
       "  </thead>\n",
       "  <tbody>\n",
       "    <tr>\n",
       "      <th>0</th>\n",
       "      <td>2020-03-01</td>\n",
       "      <td>2339402</td>\n",
       "      <td>4901</td>\n",
       "      <td>G2</td>\n",
       "      <td>Natus Vincere</td>\n",
       "      <td>5</td>\n",
       "      <td>Nuke</td>\n",
       "      <td>t</td>\n",
       "      <td>ct</td>\n",
       "      <td>4350.0</td>\n",
       "      <td>...</td>\n",
       "      <td>NaN</td>\n",
       "      <td>NaN</td>\n",
       "      <td>NaN</td>\n",
       "      <td>NaN</td>\n",
       "      <td>NaN</td>\n",
       "      <td>NaN</td>\n",
       "      <td>NaN</td>\n",
       "      <td>NaN</td>\n",
       "      <td>NaN</td>\n",
       "      <td>NaN</td>\n",
       "    </tr>\n",
       "    <tr>\n",
       "      <th>1</th>\n",
       "      <td>2020-03-01</td>\n",
       "      <td>2339402</td>\n",
       "      <td>4901</td>\n",
       "      <td>G2</td>\n",
       "      <td>Natus Vincere</td>\n",
       "      <td>5</td>\n",
       "      <td>Dust2</td>\n",
       "      <td>ct</td>\n",
       "      <td>t</td>\n",
       "      <td>3900.0</td>\n",
       "      <td>...</td>\n",
       "      <td>2.0</td>\n",
       "      <td>1.0</td>\n",
       "      <td>1.0</td>\n",
       "      <td>1.0</td>\n",
       "      <td>1.0</td>\n",
       "      <td>1.0</td>\n",
       "      <td>2.0</td>\n",
       "      <td>2.0</td>\n",
       "      <td>2.0</td>\n",
       "      <td>NaN</td>\n",
       "    </tr>\n",
       "    <tr>\n",
       "      <th>2</th>\n",
       "      <td>2020-03-01</td>\n",
       "      <td>2339402</td>\n",
       "      <td>4901</td>\n",
       "      <td>G2</td>\n",
       "      <td>Natus Vincere</td>\n",
       "      <td>5</td>\n",
       "      <td>Mirage</td>\n",
       "      <td>t</td>\n",
       "      <td>ct</td>\n",
       "      <td>4150.0</td>\n",
       "      <td>...</td>\n",
       "      <td>NaN</td>\n",
       "      <td>NaN</td>\n",
       "      <td>NaN</td>\n",
       "      <td>NaN</td>\n",
       "      <td>NaN</td>\n",
       "      <td>NaN</td>\n",
       "      <td>NaN</td>\n",
       "      <td>NaN</td>\n",
       "      <td>NaN</td>\n",
       "      <td>NaN</td>\n",
       "    </tr>\n",
       "    <tr>\n",
       "      <th>3</th>\n",
       "      <td>2020-02-29</td>\n",
       "      <td>2339401</td>\n",
       "      <td>4901</td>\n",
       "      <td>Natus Vincere</td>\n",
       "      <td>Astralis</td>\n",
       "      <td>3</td>\n",
       "      <td>Dust2</td>\n",
       "      <td>t</td>\n",
       "      <td>ct</td>\n",
       "      <td>4150.0</td>\n",
       "      <td>...</td>\n",
       "      <td>1.0</td>\n",
       "      <td>NaN</td>\n",
       "      <td>NaN</td>\n",
       "      <td>NaN</td>\n",
       "      <td>NaN</td>\n",
       "      <td>NaN</td>\n",
       "      <td>NaN</td>\n",
       "      <td>NaN</td>\n",
       "      <td>NaN</td>\n",
       "      <td>NaN</td>\n",
       "    </tr>\n",
       "    <tr>\n",
       "      <th>4</th>\n",
       "      <td>2020-02-29</td>\n",
       "      <td>2339401</td>\n",
       "      <td>4901</td>\n",
       "      <td>Natus Vincere</td>\n",
       "      <td>Astralis</td>\n",
       "      <td>3</td>\n",
       "      <td>Nuke</td>\n",
       "      <td>ct</td>\n",
       "      <td>t</td>\n",
       "      <td>4200.0</td>\n",
       "      <td>...</td>\n",
       "      <td>1.0</td>\n",
       "      <td>NaN</td>\n",
       "      <td>NaN</td>\n",
       "      <td>NaN</td>\n",
       "      <td>NaN</td>\n",
       "      <td>NaN</td>\n",
       "      <td>NaN</td>\n",
       "      <td>NaN</td>\n",
       "      <td>NaN</td>\n",
       "      <td>NaN</td>\n",
       "    </tr>\n",
       "  </tbody>\n",
       "</table>\n",
       "<p>5 rows × 99 columns</p>\n",
       "</div>"
      ],
      "text/plain": [
       "         date  match_id  event_id         team_1         team_2 best_of  \\\n",
       "0  2020-03-01   2339402      4901             G2  Natus Vincere       5   \n",
       "1  2020-03-01   2339402      4901             G2  Natus Vincere       5   \n",
       "2  2020-03-01   2339402      4901             G2  Natus Vincere       5   \n",
       "3  2020-02-29   2339401      4901  Natus Vincere       Astralis       3   \n",
       "4  2020-02-29   2339401      4901  Natus Vincere       Astralis       3   \n",
       "\n",
       "     _map t1_start t2_start    1_t1  ...  21_winner  22_winner  23_winner  \\\n",
       "0    Nuke        t       ct  4350.0  ...        NaN        NaN        NaN   \n",
       "1   Dust2       ct        t  3900.0  ...        2.0        1.0        1.0   \n",
       "2  Mirage        t       ct  4150.0  ...        NaN        NaN        NaN   \n",
       "3   Dust2        t       ct  4150.0  ...        1.0        NaN        NaN   \n",
       "4    Nuke       ct        t  4200.0  ...        1.0        NaN        NaN   \n",
       "\n",
       "   24_winner  25_winner  26_winner  27_winner  28_winner  29_winner  30_winner  \n",
       "0        NaN        NaN        NaN        NaN        NaN        NaN        NaN  \n",
       "1        1.0        1.0        1.0        2.0        2.0        2.0        NaN  \n",
       "2        NaN        NaN        NaN        NaN        NaN        NaN        NaN  \n",
       "3        NaN        NaN        NaN        NaN        NaN        NaN        NaN  \n",
       "4        NaN        NaN        NaN        NaN        NaN        NaN        NaN  \n",
       "\n",
       "[5 rows x 99 columns]"
      ]
     },
     "execution_count": 80,
     "metadata": {},
     "output_type": "execute_result"
    }
   ],
   "source": [
    "data.head()"
   ]
  },
  {
   "cell_type": "markdown",
   "metadata": {},
   "source": [
    "### Condition 1\n",
    "Ensuring that every match entry reaches 16 rounds and removing any invalid matches that do not reach 16 rounds."
   ]
  },
  {
   "cell_type": "code",
   "execution_count": 81,
   "metadata": {},
   "outputs": [],
   "source": [
    "datacopy = data #Create a copy of data to conduct data cleaning on"
   ]
  },
  {
   "cell_type": "code",
   "execution_count": 82,
   "metadata": {},
   "outputs": [
    {
     "name": "stdout",
     "output_type": "stream",
     "text": [
      "[43234, 43234, 43234, 43234, 43234, 43234, 43234, 43234, 43234, 43234, 43234, 43234, 43234, 43234, 43234, 43234, 43083, 42459, 41261, 39701, 37666, 35261, 32366, 29394, 25993, 22532, 18948, 15287, 11623, 7899]\n",
      "[43234, 43234, 43234, 43234, 43234, 43234, 43234, 43234, 43234, 43234, 43234, 43234, 43234, 43234, 43234, 43234, 43083, 42459, 41261, 39701, 37666, 35261, 32366, 29394, 25993, 22532, 18948, 15287, 11623, 7899]\n",
      "[43234, 43234, 43234, 43234, 43234, 43234, 43234, 43234, 43234, 43234, 43234, 43234, 43234, 43234, 43234, 43234, 43083, 42459, 41261, 39701, 37666, 35261, 32366, 29394, 25993, 22532, 18948, 15287, 11623, 7899]\n"
     ]
    }
   ],
   "source": [
    "temphead = list(datacopy.columns.values) #Get names of columns\n",
    "splitHead = temphead[9:99] #splitHead contains the column names of team 1's spending, team 2's spending and the winning team from Round 1 to 30\n",
    "\n",
    "countlist = [] #Contains the number of entries for each column\n",
    "\n",
    "for column in splitHead:\n",
    "  countlist.append(np.sum(datacopy[column].count())) #Count the number of entries for each column and adds them to countList\n",
    "\n",
    "print(countlist[0:30]) #Number of match entries of team 1's spending from Round 1 to 30\n",
    "print(countlist[30:60]) #Number of match entries of team 2's spending from Round 1 to 30\n",
    "print(countlist[60:90]) #Number of match entries of winning team from Round 1 to 30"
   ]
  },
  {
   "cell_type": "markdown",
   "metadata": {},
   "source": [
    "#### Notice that the first 16 printed values of each row is the same (41344)\n",
    "Since 43234 is the number of match data entries in dataset, this means that all the match entries in the source data did reach 16 rounds, which fulfils our 1st Criteria of counting the match as valid. As such, no cleaning is required to eliminate any invalid matches."
   ]
  },
  {
   "cell_type": "markdown",
   "metadata": {
    "id": "c6v4MWbav8u6"
   },
   "source": [
    "### Condition 2\n",
    "Ensuring that every round in a match does not have any team spending <1000 or >44500"
   ]
  },
  {
   "cell_type": "code",
   "execution_count": null,
   "metadata": {
    "id": "qXyLf5Ixwl_N"
   },
   "outputs": [],
   "source": [
    "#Cleaning datacopy\n",
    "#Filling in blanks (games did not last till x rounds) with 0\n",
    "#Removing any invalid games (Set them as np.nan to be dropped by dropna function)\n",
    "\n",
    "for i in range(1, 31): #Iterating through 30 rounds\n",
    "  winner = \"_winner\" \n",
    "  t1 = \"_t1\" \n",
    "  t2 = \"_t2\" \n",
    "  roundwinner = str(i) + winner\n",
    "  team1 = str(i) + t1\n",
    "  team2 = str(i) + t2\n",
    "  t1column = datacopy[team1] #how much t1 spent on round i\n",
    "  t2column = datacopy[team2] #how much t2 spent on round i\n",
    "  winnercolumn = datacopy[roundwinner] #winner of i round\n",
    "\n",
    "  for j in range(len(datacopy.index)):\n",
    "    if t1column[j] < 1000 or t1column[j] > 44500: #Invalid spending from team 1\n",
    "      datacopy[team1][j] = np.nan \n",
    "    if t2column[j] < 1000 or t2column[j] > 44500: #Invalid spending from team 2\n",
    "      datacopy[team2][j] = np.nan\n",
    "    if winnercolumn[j] != 1 and winnercolumn[j] != 2: #Games did not last till i rounds, fill all blanks with 0 and spending 5 (Preventing dropna from removing match entries that end before Round 30)\n",
    "      datacopy[roundwinner][j] = 0 \n",
    "      datacopy[team2][j] = 0\n",
    "      datacopy[team1][j] = 5"
   ]
  },
  {
   "cell_type": "code",
   "execution_count": 84,
   "metadata": {
    "id": "THZ5DM0dwx3e"
   },
   "outputs": [],
   "source": [
    "clean = datacopy.dropna(axis = 0, how = \"any\") #Clean is a dataframe that contains all matches that meet Condition 1 of our Data Cleaning"
   ]
  },
  {
   "cell_type": "code",
   "execution_count": 85,
   "metadata": {
    "id": "0-JFrGlww8n9"
   },
   "outputs": [
    {
     "data": {
      "text/html": [
       "<div>\n",
       "<style scoped>\n",
       "    .dataframe tbody tr th:only-of-type {\n",
       "        vertical-align: middle;\n",
       "    }\n",
       "\n",
       "    .dataframe tbody tr th {\n",
       "        vertical-align: top;\n",
       "    }\n",
       "\n",
       "    .dataframe thead th {\n",
       "        text-align: right;\n",
       "    }\n",
       "</style>\n",
       "<table border=\"1\" class=\"dataframe\">\n",
       "  <thead>\n",
       "    <tr style=\"text-align: right;\">\n",
       "      <th></th>\n",
       "      <th>date</th>\n",
       "      <th>match_id</th>\n",
       "      <th>event_id</th>\n",
       "      <th>team_1</th>\n",
       "      <th>team_2</th>\n",
       "      <th>best_of</th>\n",
       "      <th>_map</th>\n",
       "      <th>t1_start</th>\n",
       "      <th>t2_start</th>\n",
       "      <th>1_t1</th>\n",
       "      <th>...</th>\n",
       "      <th>21_winner</th>\n",
       "      <th>22_winner</th>\n",
       "      <th>23_winner</th>\n",
       "      <th>24_winner</th>\n",
       "      <th>25_winner</th>\n",
       "      <th>26_winner</th>\n",
       "      <th>27_winner</th>\n",
       "      <th>28_winner</th>\n",
       "      <th>29_winner</th>\n",
       "      <th>30_winner</th>\n",
       "    </tr>\n",
       "  </thead>\n",
       "  <tbody>\n",
       "    <tr>\n",
       "      <th>0</th>\n",
       "      <td>2020-03-01</td>\n",
       "      <td>2339402</td>\n",
       "      <td>4901</td>\n",
       "      <td>G2</td>\n",
       "      <td>Natus Vincere</td>\n",
       "      <td>5</td>\n",
       "      <td>Nuke</td>\n",
       "      <td>t</td>\n",
       "      <td>ct</td>\n",
       "      <td>4350.0</td>\n",
       "      <td>...</td>\n",
       "      <td>0.0</td>\n",
       "      <td>0.0</td>\n",
       "      <td>0.0</td>\n",
       "      <td>0.0</td>\n",
       "      <td>0.0</td>\n",
       "      <td>0.0</td>\n",
       "      <td>0.0</td>\n",
       "      <td>0.0</td>\n",
       "      <td>0.0</td>\n",
       "      <td>0.0</td>\n",
       "    </tr>\n",
       "    <tr>\n",
       "      <th>1</th>\n",
       "      <td>2020-03-01</td>\n",
       "      <td>2339402</td>\n",
       "      <td>4901</td>\n",
       "      <td>G2</td>\n",
       "      <td>Natus Vincere</td>\n",
       "      <td>5</td>\n",
       "      <td>Dust2</td>\n",
       "      <td>ct</td>\n",
       "      <td>t</td>\n",
       "      <td>3900.0</td>\n",
       "      <td>...</td>\n",
       "      <td>2.0</td>\n",
       "      <td>1.0</td>\n",
       "      <td>1.0</td>\n",
       "      <td>1.0</td>\n",
       "      <td>1.0</td>\n",
       "      <td>1.0</td>\n",
       "      <td>2.0</td>\n",
       "      <td>2.0</td>\n",
       "      <td>2.0</td>\n",
       "      <td>0.0</td>\n",
       "    </tr>\n",
       "    <tr>\n",
       "      <th>2</th>\n",
       "      <td>2020-03-01</td>\n",
       "      <td>2339402</td>\n",
       "      <td>4901</td>\n",
       "      <td>G2</td>\n",
       "      <td>Natus Vincere</td>\n",
       "      <td>5</td>\n",
       "      <td>Mirage</td>\n",
       "      <td>t</td>\n",
       "      <td>ct</td>\n",
       "      <td>4150.0</td>\n",
       "      <td>...</td>\n",
       "      <td>0.0</td>\n",
       "      <td>0.0</td>\n",
       "      <td>0.0</td>\n",
       "      <td>0.0</td>\n",
       "      <td>0.0</td>\n",
       "      <td>0.0</td>\n",
       "      <td>0.0</td>\n",
       "      <td>0.0</td>\n",
       "      <td>0.0</td>\n",
       "      <td>0.0</td>\n",
       "    </tr>\n",
       "    <tr>\n",
       "      <th>3</th>\n",
       "      <td>2020-02-29</td>\n",
       "      <td>2339401</td>\n",
       "      <td>4901</td>\n",
       "      <td>Natus Vincere</td>\n",
       "      <td>Astralis</td>\n",
       "      <td>3</td>\n",
       "      <td>Dust2</td>\n",
       "      <td>t</td>\n",
       "      <td>ct</td>\n",
       "      <td>4150.0</td>\n",
       "      <td>...</td>\n",
       "      <td>1.0</td>\n",
       "      <td>0.0</td>\n",
       "      <td>0.0</td>\n",
       "      <td>0.0</td>\n",
       "      <td>0.0</td>\n",
       "      <td>0.0</td>\n",
       "      <td>0.0</td>\n",
       "      <td>0.0</td>\n",
       "      <td>0.0</td>\n",
       "      <td>0.0</td>\n",
       "    </tr>\n",
       "    <tr>\n",
       "      <th>4</th>\n",
       "      <td>2020-02-29</td>\n",
       "      <td>2339401</td>\n",
       "      <td>4901</td>\n",
       "      <td>Natus Vincere</td>\n",
       "      <td>Astralis</td>\n",
       "      <td>3</td>\n",
       "      <td>Nuke</td>\n",
       "      <td>ct</td>\n",
       "      <td>t</td>\n",
       "      <td>4200.0</td>\n",
       "      <td>...</td>\n",
       "      <td>1.0</td>\n",
       "      <td>0.0</td>\n",
       "      <td>0.0</td>\n",
       "      <td>0.0</td>\n",
       "      <td>0.0</td>\n",
       "      <td>0.0</td>\n",
       "      <td>0.0</td>\n",
       "      <td>0.0</td>\n",
       "      <td>0.0</td>\n",
       "      <td>0.0</td>\n",
       "    </tr>\n",
       "  </tbody>\n",
       "</table>\n",
       "<p>5 rows × 99 columns</p>\n",
       "</div>"
      ],
      "text/plain": [
       "         date  match_id  event_id         team_1         team_2 best_of  \\\n",
       "0  2020-03-01   2339402      4901             G2  Natus Vincere       5   \n",
       "1  2020-03-01   2339402      4901             G2  Natus Vincere       5   \n",
       "2  2020-03-01   2339402      4901             G2  Natus Vincere       5   \n",
       "3  2020-02-29   2339401      4901  Natus Vincere       Astralis       3   \n",
       "4  2020-02-29   2339401      4901  Natus Vincere       Astralis       3   \n",
       "\n",
       "     _map t1_start t2_start    1_t1  ...  21_winner  22_winner  23_winner  \\\n",
       "0    Nuke        t       ct  4350.0  ...        0.0        0.0        0.0   \n",
       "1   Dust2       ct        t  3900.0  ...        2.0        1.0        1.0   \n",
       "2  Mirage        t       ct  4150.0  ...        0.0        0.0        0.0   \n",
       "3   Dust2        t       ct  4150.0  ...        1.0        0.0        0.0   \n",
       "4    Nuke       ct        t  4200.0  ...        1.0        0.0        0.0   \n",
       "\n",
       "   24_winner  25_winner  26_winner  27_winner  28_winner  29_winner  30_winner  \n",
       "0        0.0        0.0        0.0        0.0        0.0        0.0        0.0  \n",
       "1        1.0        1.0        1.0        2.0        2.0        2.0        0.0  \n",
       "2        0.0        0.0        0.0        0.0        0.0        0.0        0.0  \n",
       "3        0.0        0.0        0.0        0.0        0.0        0.0        0.0  \n",
       "4        0.0        0.0        0.0        0.0        0.0        0.0        0.0  \n",
       "\n",
       "[5 rows x 99 columns]"
      ]
     },
     "execution_count": 85,
     "metadata": {},
     "output_type": "execute_result"
    }
   ],
   "source": [
    "clean.head()"
   ]
  },
  {
   "cell_type": "code",
   "execution_count": 86,
   "metadata": {
    "id": "ChLXKfxLw8yF"
   },
   "outputs": [
    {
     "data": {
      "text/plain": [
       "(41344, 99)"
      ]
     },
     "execution_count": 86,
     "metadata": {},
     "output_type": "execute_result"
    }
   ],
   "source": [
    "clean.shape"
   ]
  },
  {
   "cell_type": "markdown",
   "metadata": {
    "id": "xtoAUAjkxu2T"
   },
   "source": [
    "#### Notice that the clean dataframe only has 41344 match entries\n",
    "\n",
    "This means that 1890 matches has been disqualified and removed for not meeting Condition 2."
   ]
  },
  {
   "cell_type": "markdown",
   "metadata": {
    "id": "kC0UeG_90Elm"
   },
   "source": [
    "### Condition 3\n",
    "Ensuring that every match entry is played on a valid map (within the 9 maps of the competitive map pool)"
   ]
  },
  {
   "cell_type": "code",
   "execution_count": 87,
   "metadata": {
    "id": "H1dhPQSlzntt"
   },
   "outputs": [
    {
     "name": "stdout",
     "output_type": "stream",
     "text": [
      "{'Nuke': None, 'Dust2': None, 'Mirage': None, 'Inferno': None, 'Train': None, 'Vertigo': None, 'Overpass': None, 'Default': None, 'Cobblestone': None, 'Cache': None}\n"
     ]
    }
   ],
   "source": [
    "mapColumn = clean[\"_map\"] #Extract all the maps played for the matches in clean\n",
    "mapsList = mapColumn.tolist() #Convert the \n",
    "mapsList = dict.fromkeys(mapsList)\n",
    "print(mapsList)"
   ]
  },
  {
   "cell_type": "markdown",
   "metadata": {
    "id": "9wynkNna1rHM"
   },
   "source": [
    "From the Map List, you can observe that the 9 maps (Cache, Vertigo, Inferno, Dust 2, Mirage, Nuke, Overpass, Train, Cobblestone) are there. However, default is also listed. To remove default, we employ the following code"
   ]
  },
  {
   "cell_type": "code",
   "execution_count": 88,
   "metadata": {
    "id": "fAnVEj632Ba7"
   },
   "outputs": [],
   "source": [
    "clean = clean[clean[\"_map\"] != \"Default\"]"
   ]
  },
  {
   "cell_type": "code",
   "execution_count": 89,
   "metadata": {
    "id": "1M0wGTJb2oRl"
   },
   "outputs": [
    {
     "data": {
      "text/html": [
       "<div>\n",
       "<style scoped>\n",
       "    .dataframe tbody tr th:only-of-type {\n",
       "        vertical-align: middle;\n",
       "    }\n",
       "\n",
       "    .dataframe tbody tr th {\n",
       "        vertical-align: top;\n",
       "    }\n",
       "\n",
       "    .dataframe thead th {\n",
       "        text-align: right;\n",
       "    }\n",
       "</style>\n",
       "<table border=\"1\" class=\"dataframe\">\n",
       "  <thead>\n",
       "    <tr style=\"text-align: right;\">\n",
       "      <th></th>\n",
       "      <th>date</th>\n",
       "      <th>match_id</th>\n",
       "      <th>event_id</th>\n",
       "      <th>team_1</th>\n",
       "      <th>team_2</th>\n",
       "      <th>best_of</th>\n",
       "      <th>_map</th>\n",
       "      <th>t1_start</th>\n",
       "      <th>t2_start</th>\n",
       "      <th>1_t1</th>\n",
       "      <th>...</th>\n",
       "      <th>21_winner</th>\n",
       "      <th>22_winner</th>\n",
       "      <th>23_winner</th>\n",
       "      <th>24_winner</th>\n",
       "      <th>25_winner</th>\n",
       "      <th>26_winner</th>\n",
       "      <th>27_winner</th>\n",
       "      <th>28_winner</th>\n",
       "      <th>29_winner</th>\n",
       "      <th>30_winner</th>\n",
       "    </tr>\n",
       "  </thead>\n",
       "  <tbody>\n",
       "    <tr>\n",
       "      <th>0</th>\n",
       "      <td>2020-03-01</td>\n",
       "      <td>2339402</td>\n",
       "      <td>4901</td>\n",
       "      <td>G2</td>\n",
       "      <td>Natus Vincere</td>\n",
       "      <td>5</td>\n",
       "      <td>Nuke</td>\n",
       "      <td>t</td>\n",
       "      <td>ct</td>\n",
       "      <td>4350.0</td>\n",
       "      <td>...</td>\n",
       "      <td>0.0</td>\n",
       "      <td>0.0</td>\n",
       "      <td>0.0</td>\n",
       "      <td>0.0</td>\n",
       "      <td>0.0</td>\n",
       "      <td>0.0</td>\n",
       "      <td>0.0</td>\n",
       "      <td>0.0</td>\n",
       "      <td>0.0</td>\n",
       "      <td>0.0</td>\n",
       "    </tr>\n",
       "    <tr>\n",
       "      <th>1</th>\n",
       "      <td>2020-03-01</td>\n",
       "      <td>2339402</td>\n",
       "      <td>4901</td>\n",
       "      <td>G2</td>\n",
       "      <td>Natus Vincere</td>\n",
       "      <td>5</td>\n",
       "      <td>Dust2</td>\n",
       "      <td>ct</td>\n",
       "      <td>t</td>\n",
       "      <td>3900.0</td>\n",
       "      <td>...</td>\n",
       "      <td>2.0</td>\n",
       "      <td>1.0</td>\n",
       "      <td>1.0</td>\n",
       "      <td>1.0</td>\n",
       "      <td>1.0</td>\n",
       "      <td>1.0</td>\n",
       "      <td>2.0</td>\n",
       "      <td>2.0</td>\n",
       "      <td>2.0</td>\n",
       "      <td>0.0</td>\n",
       "    </tr>\n",
       "    <tr>\n",
       "      <th>2</th>\n",
       "      <td>2020-03-01</td>\n",
       "      <td>2339402</td>\n",
       "      <td>4901</td>\n",
       "      <td>G2</td>\n",
       "      <td>Natus Vincere</td>\n",
       "      <td>5</td>\n",
       "      <td>Mirage</td>\n",
       "      <td>t</td>\n",
       "      <td>ct</td>\n",
       "      <td>4150.0</td>\n",
       "      <td>...</td>\n",
       "      <td>0.0</td>\n",
       "      <td>0.0</td>\n",
       "      <td>0.0</td>\n",
       "      <td>0.0</td>\n",
       "      <td>0.0</td>\n",
       "      <td>0.0</td>\n",
       "      <td>0.0</td>\n",
       "      <td>0.0</td>\n",
       "      <td>0.0</td>\n",
       "      <td>0.0</td>\n",
       "    </tr>\n",
       "    <tr>\n",
       "      <th>3</th>\n",
       "      <td>2020-02-29</td>\n",
       "      <td>2339401</td>\n",
       "      <td>4901</td>\n",
       "      <td>Natus Vincere</td>\n",
       "      <td>Astralis</td>\n",
       "      <td>3</td>\n",
       "      <td>Dust2</td>\n",
       "      <td>t</td>\n",
       "      <td>ct</td>\n",
       "      <td>4150.0</td>\n",
       "      <td>...</td>\n",
       "      <td>1.0</td>\n",
       "      <td>0.0</td>\n",
       "      <td>0.0</td>\n",
       "      <td>0.0</td>\n",
       "      <td>0.0</td>\n",
       "      <td>0.0</td>\n",
       "      <td>0.0</td>\n",
       "      <td>0.0</td>\n",
       "      <td>0.0</td>\n",
       "      <td>0.0</td>\n",
       "    </tr>\n",
       "    <tr>\n",
       "      <th>4</th>\n",
       "      <td>2020-02-29</td>\n",
       "      <td>2339401</td>\n",
       "      <td>4901</td>\n",
       "      <td>Natus Vincere</td>\n",
       "      <td>Astralis</td>\n",
       "      <td>3</td>\n",
       "      <td>Nuke</td>\n",
       "      <td>ct</td>\n",
       "      <td>t</td>\n",
       "      <td>4200.0</td>\n",
       "      <td>...</td>\n",
       "      <td>1.0</td>\n",
       "      <td>0.0</td>\n",
       "      <td>0.0</td>\n",
       "      <td>0.0</td>\n",
       "      <td>0.0</td>\n",
       "      <td>0.0</td>\n",
       "      <td>0.0</td>\n",
       "      <td>0.0</td>\n",
       "      <td>0.0</td>\n",
       "      <td>0.0</td>\n",
       "    </tr>\n",
       "  </tbody>\n",
       "</table>\n",
       "<p>5 rows × 99 columns</p>\n",
       "</div>"
      ],
      "text/plain": [
       "         date  match_id  event_id         team_1         team_2 best_of  \\\n",
       "0  2020-03-01   2339402      4901             G2  Natus Vincere       5   \n",
       "1  2020-03-01   2339402      4901             G2  Natus Vincere       5   \n",
       "2  2020-03-01   2339402      4901             G2  Natus Vincere       5   \n",
       "3  2020-02-29   2339401      4901  Natus Vincere       Astralis       3   \n",
       "4  2020-02-29   2339401      4901  Natus Vincere       Astralis       3   \n",
       "\n",
       "     _map t1_start t2_start    1_t1  ...  21_winner  22_winner  23_winner  \\\n",
       "0    Nuke        t       ct  4350.0  ...        0.0        0.0        0.0   \n",
       "1   Dust2       ct        t  3900.0  ...        2.0        1.0        1.0   \n",
       "2  Mirage        t       ct  4150.0  ...        0.0        0.0        0.0   \n",
       "3   Dust2        t       ct  4150.0  ...        1.0        0.0        0.0   \n",
       "4    Nuke       ct        t  4200.0  ...        1.0        0.0        0.0   \n",
       "\n",
       "   24_winner  25_winner  26_winner  27_winner  28_winner  29_winner  30_winner  \n",
       "0        0.0        0.0        0.0        0.0        0.0        0.0        0.0  \n",
       "1        1.0        1.0        1.0        2.0        2.0        2.0        0.0  \n",
       "2        0.0        0.0        0.0        0.0        0.0        0.0        0.0  \n",
       "3        0.0        0.0        0.0        0.0        0.0        0.0        0.0  \n",
       "4        0.0        0.0        0.0        0.0        0.0        0.0        0.0  \n",
       "\n",
       "[5 rows x 99 columns]"
      ]
     },
     "execution_count": 89,
     "metadata": {},
     "output_type": "execute_result"
    }
   ],
   "source": [
    "clean.head()"
   ]
  },
  {
   "cell_type": "code",
   "execution_count": 90,
   "metadata": {
    "id": "Xcu0ZjSH2mXt"
   },
   "outputs": [
    {
     "data": {
      "text/plain": [
       "(41160, 99)"
      ]
     },
     "execution_count": 90,
     "metadata": {},
     "output_type": "execute_result"
    }
   ],
   "source": [
    "clean.shape"
   ]
  },
  {
   "cell_type": "markdown",
   "metadata": {
    "id": "9CXlSemf2V2-"
   },
   "source": [
    "#### Notice that the clean dataframe now only has 41160 entries\n",
    "\n",
    "This means that 184 entries have been removed as the map is Default, which is not one of the 9 competitive maps"
   ]
  },
  {
   "cell_type": "markdown",
   "metadata": {},
   "source": [
    "cleanCopy = clean## Outliers\n",
    "\n",
    "To calculate the outliers in our matches, we will first calculate the advantage that a team has over their opposition for each individual round."
   ]
  },
  {
   "cell_type": "code",
   "execution_count": 91,
   "metadata": {},
   "outputs": [],
   "source": [
    "cleanCopy = clean"
   ]
  },
  {
   "cell_type": "code",
   "execution_count": 92,
   "metadata": {},
   "outputs": [
    {
     "data": {
      "text/html": [
       "<div>\n",
       "<style scoped>\n",
       "    .dataframe tbody tr th:only-of-type {\n",
       "        vertical-align: middle;\n",
       "    }\n",
       "\n",
       "    .dataframe tbody tr th {\n",
       "        vertical-align: top;\n",
       "    }\n",
       "\n",
       "    .dataframe thead th {\n",
       "        text-align: right;\n",
       "    }\n",
       "</style>\n",
       "<table border=\"1\" class=\"dataframe\">\n",
       "  <thead>\n",
       "    <tr style=\"text-align: right;\">\n",
       "      <th></th>\n",
       "      <th>date</th>\n",
       "      <th>match_id</th>\n",
       "      <th>event_id</th>\n",
       "      <th>team_1</th>\n",
       "      <th>team_2</th>\n",
       "      <th>best_of</th>\n",
       "      <th>_map</th>\n",
       "      <th>t1_start</th>\n",
       "      <th>t2_start</th>\n",
       "      <th>1_t1</th>\n",
       "      <th>...</th>\n",
       "      <th>21_advantage</th>\n",
       "      <th>22_advantage</th>\n",
       "      <th>23_advantage</th>\n",
       "      <th>24_advantage</th>\n",
       "      <th>25_advantage</th>\n",
       "      <th>26_advantage</th>\n",
       "      <th>27_advantage</th>\n",
       "      <th>28_advantage</th>\n",
       "      <th>29_advantage</th>\n",
       "      <th>30_advantage</th>\n",
       "    </tr>\n",
       "  </thead>\n",
       "  <tbody>\n",
       "    <tr>\n",
       "      <th>0</th>\n",
       "      <td>2020-03-01</td>\n",
       "      <td>2339402</td>\n",
       "      <td>4901</td>\n",
       "      <td>G2</td>\n",
       "      <td>Natus Vincere</td>\n",
       "      <td>5</td>\n",
       "      <td>Nuke</td>\n",
       "      <td>t</td>\n",
       "      <td>ct</td>\n",
       "      <td>4350.0</td>\n",
       "      <td>...</td>\n",
       "      <td>5.0</td>\n",
       "      <td>5.0</td>\n",
       "      <td>5.0</td>\n",
       "      <td>5.0</td>\n",
       "      <td>5.0</td>\n",
       "      <td>5.0</td>\n",
       "      <td>5.0</td>\n",
       "      <td>5.0</td>\n",
       "      <td>5.0</td>\n",
       "      <td>5.0</td>\n",
       "    </tr>\n",
       "    <tr>\n",
       "      <th>1</th>\n",
       "      <td>2020-03-01</td>\n",
       "      <td>2339402</td>\n",
       "      <td>4901</td>\n",
       "      <td>G2</td>\n",
       "      <td>Natus Vincere</td>\n",
       "      <td>5</td>\n",
       "      <td>Dust2</td>\n",
       "      <td>ct</td>\n",
       "      <td>t</td>\n",
       "      <td>3900.0</td>\n",
       "      <td>...</td>\n",
       "      <td>-26000.0</td>\n",
       "      <td>-50.0</td>\n",
       "      <td>-5550.0</td>\n",
       "      <td>4900.0</td>\n",
       "      <td>23950.0</td>\n",
       "      <td>1100.0</td>\n",
       "      <td>600.0</td>\n",
       "      <td>-1250.0</td>\n",
       "      <td>-2800.0</td>\n",
       "      <td>5.0</td>\n",
       "    </tr>\n",
       "    <tr>\n",
       "      <th>2</th>\n",
       "      <td>2020-03-01</td>\n",
       "      <td>2339402</td>\n",
       "      <td>4901</td>\n",
       "      <td>G2</td>\n",
       "      <td>Natus Vincere</td>\n",
       "      <td>5</td>\n",
       "      <td>Mirage</td>\n",
       "      <td>t</td>\n",
       "      <td>ct</td>\n",
       "      <td>4150.0</td>\n",
       "      <td>...</td>\n",
       "      <td>5.0</td>\n",
       "      <td>5.0</td>\n",
       "      <td>5.0</td>\n",
       "      <td>5.0</td>\n",
       "      <td>5.0</td>\n",
       "      <td>5.0</td>\n",
       "      <td>5.0</td>\n",
       "      <td>5.0</td>\n",
       "      <td>5.0</td>\n",
       "      <td>5.0</td>\n",
       "    </tr>\n",
       "    <tr>\n",
       "      <th>3</th>\n",
       "      <td>2020-02-29</td>\n",
       "      <td>2339401</td>\n",
       "      <td>4901</td>\n",
       "      <td>Natus Vincere</td>\n",
       "      <td>Astralis</td>\n",
       "      <td>3</td>\n",
       "      <td>Dust2</td>\n",
       "      <td>t</td>\n",
       "      <td>ct</td>\n",
       "      <td>4150.0</td>\n",
       "      <td>...</td>\n",
       "      <td>-4500.0</td>\n",
       "      <td>5.0</td>\n",
       "      <td>5.0</td>\n",
       "      <td>5.0</td>\n",
       "      <td>5.0</td>\n",
       "      <td>5.0</td>\n",
       "      <td>5.0</td>\n",
       "      <td>5.0</td>\n",
       "      <td>5.0</td>\n",
       "      <td>5.0</td>\n",
       "    </tr>\n",
       "    <tr>\n",
       "      <th>4</th>\n",
       "      <td>2020-02-29</td>\n",
       "      <td>2339401</td>\n",
       "      <td>4901</td>\n",
       "      <td>Natus Vincere</td>\n",
       "      <td>Astralis</td>\n",
       "      <td>3</td>\n",
       "      <td>Nuke</td>\n",
       "      <td>ct</td>\n",
       "      <td>t</td>\n",
       "      <td>4200.0</td>\n",
       "      <td>...</td>\n",
       "      <td>13750.0</td>\n",
       "      <td>5.0</td>\n",
       "      <td>5.0</td>\n",
       "      <td>5.0</td>\n",
       "      <td>5.0</td>\n",
       "      <td>5.0</td>\n",
       "      <td>5.0</td>\n",
       "      <td>5.0</td>\n",
       "      <td>5.0</td>\n",
       "      <td>5.0</td>\n",
       "    </tr>\n",
       "  </tbody>\n",
       "</table>\n",
       "<p>5 rows × 129 columns</p>\n",
       "</div>"
      ],
      "text/plain": [
       "         date  match_id  event_id         team_1         team_2 best_of  \\\n",
       "0  2020-03-01   2339402      4901             G2  Natus Vincere       5   \n",
       "1  2020-03-01   2339402      4901             G2  Natus Vincere       5   \n",
       "2  2020-03-01   2339402      4901             G2  Natus Vincere       5   \n",
       "3  2020-02-29   2339401      4901  Natus Vincere       Astralis       3   \n",
       "4  2020-02-29   2339401      4901  Natus Vincere       Astralis       3   \n",
       "\n",
       "     _map t1_start t2_start    1_t1  ...  21_advantage  22_advantage  \\\n",
       "0    Nuke        t       ct  4350.0  ...           5.0           5.0   \n",
       "1   Dust2       ct        t  3900.0  ...      -26000.0         -50.0   \n",
       "2  Mirage        t       ct  4150.0  ...           5.0           5.0   \n",
       "3   Dust2        t       ct  4150.0  ...       -4500.0           5.0   \n",
       "4    Nuke       ct        t  4200.0  ...       13750.0           5.0   \n",
       "\n",
       "   23_advantage  24_advantage  25_advantage  26_advantage  27_advantage  \\\n",
       "0           5.0           5.0           5.0           5.0           5.0   \n",
       "1       -5550.0        4900.0       23950.0        1100.0         600.0   \n",
       "2           5.0           5.0           5.0           5.0           5.0   \n",
       "3           5.0           5.0           5.0           5.0           5.0   \n",
       "4           5.0           5.0           5.0           5.0           5.0   \n",
       "\n",
       "   28_advantage  29_advantage  30_advantage  \n",
       "0           5.0           5.0           5.0  \n",
       "1       -1250.0       -2800.0           5.0  \n",
       "2           5.0           5.0           5.0  \n",
       "3           5.0           5.0           5.0  \n",
       "4           5.0           5.0           5.0  \n",
       "\n",
       "[5 rows x 129 columns]"
      ]
     },
     "execution_count": 92,
     "metadata": {},
     "output_type": "execute_result"
    }
   ],
   "source": [
    "#Create columns in dataframe that represent Team 1's advantage in economic spending for all 30 rounds\n",
    "#This advantage is equal to Spending by Team 1 - Spending by Team 2 for said round\n",
    "\n",
    "for i in range(1, 31):\n",
    "  advantage_string = str(i) + \"_advantage\"\n",
    "  t1_string = str(i) + \"_t1\"\n",
    "  t2_string = str(i) + \"_t2\"\n",
    "  \n",
    "  advantage = cleanCopy[t1_string] - cleanCopy[t2_string]\n",
    "  cleanCopy[advantage_string] = advantage\n",
    "    \n",
    "  \n",
    "cleanCopy.head()"
   ]
  },
  {
   "cell_type": "markdown",
   "metadata": {},
   "source": [
    "Now we will create a dataframe with only the advantage and result of the round. Note that a positive advantage refers to an advantage for Team 1 and a negative advantage, an advantage for team 2."
   ]
  },
  {
   "cell_type": "code",
   "execution_count": 93,
   "metadata": {},
   "outputs": [
    {
     "data": {
      "text/html": [
       "<div>\n",
       "<style scoped>\n",
       "    .dataframe tbody tr th:only-of-type {\n",
       "        vertical-align: middle;\n",
       "    }\n",
       "\n",
       "    .dataframe tbody tr th {\n",
       "        vertical-align: top;\n",
       "    }\n",
       "\n",
       "    .dataframe thead th {\n",
       "        text-align: right;\n",
       "    }\n",
       "</style>\n",
       "<table border=\"1\" class=\"dataframe\">\n",
       "  <thead>\n",
       "    <tr style=\"text-align: right;\">\n",
       "      <th></th>\n",
       "      <th>Advantage</th>\n",
       "      <th>Result</th>\n",
       "    </tr>\n",
       "  </thead>\n",
       "  <tbody>\n",
       "    <tr>\n",
       "      <th>0</th>\n",
       "      <td>100.0</td>\n",
       "      <td>2.0</td>\n",
       "    </tr>\n",
       "    <tr>\n",
       "      <th>1</th>\n",
       "      <td>400.0</td>\n",
       "      <td>2.0</td>\n",
       "    </tr>\n",
       "    <tr>\n",
       "      <th>2</th>\n",
       "      <td>-50.0</td>\n",
       "      <td>2.0</td>\n",
       "    </tr>\n",
       "    <tr>\n",
       "      <th>3</th>\n",
       "      <td>-100.0</td>\n",
       "      <td>1.0</td>\n",
       "    </tr>\n",
       "    <tr>\n",
       "      <th>4</th>\n",
       "      <td>0.0</td>\n",
       "      <td>2.0</td>\n",
       "    </tr>\n",
       "  </tbody>\n",
       "</table>\n",
       "</div>"
      ],
      "text/plain": [
       "   Advantage  Result\n",
       "0      100.0     2.0\n",
       "1      400.0     2.0\n",
       "2      -50.0     2.0\n",
       "3     -100.0     1.0\n",
       "4        0.0     2.0"
      ]
     },
     "execution_count": 93,
     "metadata": {},
     "output_type": "execute_result"
    }
   ],
   "source": [
    "cleanOutliers = pd.DataFrame(columns = ['Advantage', 'Result'])\n",
    "\n",
    "for i in range(1,31):\n",
    "  advantageString  = str(i) + \"_advantage\"\n",
    "  winnerString = str(i) + \"_winner\"\n",
    "\n",
    "  \n",
    "  tempFrame = pd.concat([cleanCopy[advantageString], cleanCopy[winnerString]], ignore_index = True, axis = 1)\n",
    "  tempFrame.rename(columns = {0: 'Advantage', 1: 'Result'}, inplace = True)\n",
    "\n",
    "  cleanOutliers = pd.concat([cleanOutliers, tempFrame], axis = 0, ignore_index = True)\n",
    "\n",
    "cleanOutliers.head()"
   ]
  },
  {
   "cell_type": "code",
   "execution_count": 94,
   "metadata": {},
   "outputs": [
    {
     "data": {
      "text/plain": [
       "(1234800, 2)"
      ]
     },
     "execution_count": 94,
     "metadata": {},
     "output_type": "execute_result"
    }
   ],
   "source": [
    "cleanOutliers.shape"
   ]
  },
  {
   "cell_type": "code",
   "execution_count": 95,
   "metadata": {},
   "outputs": [],
   "source": [
    "def not_outlier(x):\n",
    "    iqr = x.quantile(0.75) - x.quantile(0.25)\n",
    "    uppFence = x.quantile(0.75) + 1.5 * iqr\n",
    "    lowFence = x.quantile(0.25) - 1.5 * iqr\n",
    "    u = max(x[x<uppFence])\n",
    "    l = min(x[x>lowFence])\n",
    "    \n",
    "    return [u,l]\n",
    "\n",
    "#Function that returns upper and lower bounds of values considered not to be an outlier"
   ]
  },
  {
   "cell_type": "code",
   "execution_count": 96,
   "metadata": {},
   "outputs": [],
   "source": [
    "notOutliers = pd.DataFrame(columns = ['Advantage','Result'])\n",
    "\n",
    "fence = not_outlier(cleanOutliers['Advantage'])"
   ]
  },
  {
   "cell_type": "code",
   "execution_count": null,
   "metadata": {},
   "outputs": [],
   "source": [
    "notOutliers = cleanOutliers[cleanOutliers['Advantage'].between(fence[1], fence[0],inclusive = True)]\n",
    "\n",
    "#Function that eliminates all entries with Advantage that are outliers"
   ]
  },
  {
   "cell_type": "code",
   "execution_count": 98,
   "metadata": {},
   "outputs": [
    {
     "data": {
      "text/plain": [
       "(1128333, 2)"
      ]
     },
     "execution_count": 98,
     "metadata": {},
     "output_type": "execute_result"
    }
   ],
   "source": [
    "notOutliers.shape"
   ]
  },
  {
   "cell_type": "markdown",
   "metadata": {},
   "source": [
    "From the above number, you can identify that there are about 106467 rounds that have an Advantage that can be considered an Outlier. However, we chose to not remove it as this \"Outlier\" advantages should just mean that the Team with the advantage should in theory, win the round convincingly "
   ]
  },
  {
   "cell_type": "markdown",
   "metadata": {
    "id": "rlFphG5p2uCU"
   },
   "source": [
    "# Conclusion\n",
    "\n",
    "After our Data Cleaning, we have removed 2074 match entries for not meeting our 3 conditions to qualify them as a valid match. We will now export this cleaned dataframe into a csv for use in the other sections of this notebook"
   ]
  },
  {
   "cell_type": "code",
   "execution_count": 99,
   "metadata": {
    "id": "gtwshllJ4ezU"
   },
   "outputs": [],
   "source": [
    "clean.to_csv('/data/clean.csv', index = False)"
   ]
  },
  {
   "cell_type": "code",
   "execution_count": null,
   "metadata": {},
   "outputs": [],
   "source": []
  }
 ],
 "metadata": {
  "colab": {
   "collapsed_sections": [],
   "name": "Data Cleaningipynb",
   "provenance": [],
   "toc_visible": true
  },
  "kernelspec": {
   "display_name": "Python 3 (ipykernel)",
   "language": "python",
   "name": "python3"
  },
  "language_info": {
   "codemirror_mode": {
    "name": "ipython",
    "version": 3
   },
   "file_extension": ".py",
   "mimetype": "text/x-python",
   "name": "python",
   "nbconvert_exporter": "python",
   "pygments_lexer": "ipython3",
   "version": "3.9.6"
  }
 },
 "nbformat": 4,
 "nbformat_minor": 4
}
